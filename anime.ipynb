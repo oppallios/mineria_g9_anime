{
 "cells": [
  {
   "cell_type": "markdown",
   "metadata": {},
   "source": [
    "# Analisis exploratorio"
   ]
  },
  {
   "cell_type": "markdown",
   "metadata": {},
   "source": [
    "## Estadisticas generales de cada tabla"
   ]
  },
  {
   "cell_type": "markdown",
   "metadata": {},
   "source": [
    "Se realiza un analisis general de cada dataframe. Se calculan sus dimensiones, los tipos de los datos de cada columna y las estadisticas (promedio, moda, mediana, cuartiles) de las columnas de tipo numerico. Además se filtran las columnas que presentan una cantidad considerable de nulos."
   ]
  },
  {
   "cell_type": "code",
   "execution_count": 1,
   "metadata": {},
   "outputs": [],
   "source": [
    "import pandas as pd\n",
    "pd.set_option('display.max_columns', None)"
   ]
  },
  {
   "cell_type": "code",
   "execution_count": 2,
   "metadata": {},
   "outputs": [],
   "source": [
    "anime = pd.read_csv('anime_cleaned.csv')\n",
    "users = pd.read_csv('users_cleaned.csv')"
   ]
  },
  {
   "cell_type": "markdown",
   "metadata": {},
   "source": [
    "### Data set Animelists"
   ]
  },
  {
   "cell_type": "code",
   "execution_count": 3,
   "metadata": {},
   "outputs": [
    {
     "ename": "ParserError",
     "evalue": "Error tokenizing data. C error: Calling read(nbytes) on source failed. Try engine='python'.",
     "output_type": "error",
     "traceback": [
      "\u001b[1;31m---------------------------------------------------------------------------\u001b[0m",
      "\u001b[1;31mParserError\u001b[0m                               Traceback (most recent call last)",
      "Cell \u001b[1;32mIn[3], line 1\u001b[0m\n\u001b[1;32m----> 1\u001b[0m animelists \u001b[38;5;241m=\u001b[39m \u001b[43mpd\u001b[49m\u001b[38;5;241;43m.\u001b[39;49m\u001b[43mread_csv\u001b[49m\u001b[43m(\u001b[49m\u001b[38;5;124;43m'\u001b[39;49m\u001b[38;5;124;43manimelists_cleaned.csv\u001b[39;49m\u001b[38;5;124;43m'\u001b[39;49m\u001b[43m)\u001b[49m\n",
      "File \u001b[1;32m~\\anaconda3\\lib\\site-packages\\pandas\\util\\_decorators.py:211\u001b[0m, in \u001b[0;36mdeprecate_kwarg.<locals>._deprecate_kwarg.<locals>.wrapper\u001b[1;34m(*args, **kwargs)\u001b[0m\n\u001b[0;32m    209\u001b[0m     \u001b[38;5;28;01melse\u001b[39;00m:\n\u001b[0;32m    210\u001b[0m         kwargs[new_arg_name] \u001b[38;5;241m=\u001b[39m new_arg_value\n\u001b[1;32m--> 211\u001b[0m \u001b[38;5;28;01mreturn\u001b[39;00m func(\u001b[38;5;241m*\u001b[39margs, \u001b[38;5;241m*\u001b[39m\u001b[38;5;241m*\u001b[39mkwargs)\n",
      "File \u001b[1;32m~\\anaconda3\\lib\\site-packages\\pandas\\util\\_decorators.py:331\u001b[0m, in \u001b[0;36mdeprecate_nonkeyword_arguments.<locals>.decorate.<locals>.wrapper\u001b[1;34m(*args, **kwargs)\u001b[0m\n\u001b[0;32m    325\u001b[0m \u001b[38;5;28;01mif\u001b[39;00m \u001b[38;5;28mlen\u001b[39m(args) \u001b[38;5;241m>\u001b[39m num_allow_args:\n\u001b[0;32m    326\u001b[0m     warnings\u001b[38;5;241m.\u001b[39mwarn(\n\u001b[0;32m    327\u001b[0m         msg\u001b[38;5;241m.\u001b[39mformat(arguments\u001b[38;5;241m=\u001b[39m_format_argument_list(allow_args)),\n\u001b[0;32m    328\u001b[0m         \u001b[38;5;167;01mFutureWarning\u001b[39;00m,\n\u001b[0;32m    329\u001b[0m         stacklevel\u001b[38;5;241m=\u001b[39mfind_stack_level(),\n\u001b[0;32m    330\u001b[0m     )\n\u001b[1;32m--> 331\u001b[0m \u001b[38;5;28;01mreturn\u001b[39;00m func(\u001b[38;5;241m*\u001b[39margs, \u001b[38;5;241m*\u001b[39m\u001b[38;5;241m*\u001b[39mkwargs)\n",
      "File \u001b[1;32m~\\anaconda3\\lib\\site-packages\\pandas\\io\\parsers\\readers.py:950\u001b[0m, in \u001b[0;36mread_csv\u001b[1;34m(filepath_or_buffer, sep, delimiter, header, names, index_col, usecols, squeeze, prefix, mangle_dupe_cols, dtype, engine, converters, true_values, false_values, skipinitialspace, skiprows, skipfooter, nrows, na_values, keep_default_na, na_filter, verbose, skip_blank_lines, parse_dates, infer_datetime_format, keep_date_col, date_parser, dayfirst, cache_dates, iterator, chunksize, compression, thousands, decimal, lineterminator, quotechar, quoting, doublequote, escapechar, comment, encoding, encoding_errors, dialect, error_bad_lines, warn_bad_lines, on_bad_lines, delim_whitespace, low_memory, memory_map, float_precision, storage_options)\u001b[0m\n\u001b[0;32m    935\u001b[0m kwds_defaults \u001b[38;5;241m=\u001b[39m _refine_defaults_read(\n\u001b[0;32m    936\u001b[0m     dialect,\n\u001b[0;32m    937\u001b[0m     delimiter,\n\u001b[1;32m   (...)\u001b[0m\n\u001b[0;32m    946\u001b[0m     defaults\u001b[38;5;241m=\u001b[39m{\u001b[38;5;124m\"\u001b[39m\u001b[38;5;124mdelimiter\u001b[39m\u001b[38;5;124m\"\u001b[39m: \u001b[38;5;124m\"\u001b[39m\u001b[38;5;124m,\u001b[39m\u001b[38;5;124m\"\u001b[39m},\n\u001b[0;32m    947\u001b[0m )\n\u001b[0;32m    948\u001b[0m kwds\u001b[38;5;241m.\u001b[39mupdate(kwds_defaults)\n\u001b[1;32m--> 950\u001b[0m \u001b[38;5;28;01mreturn\u001b[39;00m \u001b[43m_read\u001b[49m\u001b[43m(\u001b[49m\u001b[43mfilepath_or_buffer\u001b[49m\u001b[43m,\u001b[49m\u001b[43m \u001b[49m\u001b[43mkwds\u001b[49m\u001b[43m)\u001b[49m\n",
      "File \u001b[1;32m~\\anaconda3\\lib\\site-packages\\pandas\\io\\parsers\\readers.py:611\u001b[0m, in \u001b[0;36m_read\u001b[1;34m(filepath_or_buffer, kwds)\u001b[0m\n\u001b[0;32m    608\u001b[0m     \u001b[38;5;28;01mreturn\u001b[39;00m parser\n\u001b[0;32m    610\u001b[0m \u001b[38;5;28;01mwith\u001b[39;00m parser:\n\u001b[1;32m--> 611\u001b[0m     \u001b[38;5;28;01mreturn\u001b[39;00m \u001b[43mparser\u001b[49m\u001b[38;5;241;43m.\u001b[39;49m\u001b[43mread\u001b[49m\u001b[43m(\u001b[49m\u001b[43mnrows\u001b[49m\u001b[43m)\u001b[49m\n",
      "File \u001b[1;32m~\\anaconda3\\lib\\site-packages\\pandas\\io\\parsers\\readers.py:1778\u001b[0m, in \u001b[0;36mTextFileReader.read\u001b[1;34m(self, nrows)\u001b[0m\n\u001b[0;32m   1771\u001b[0m nrows \u001b[38;5;241m=\u001b[39m validate_integer(\u001b[38;5;124m\"\u001b[39m\u001b[38;5;124mnrows\u001b[39m\u001b[38;5;124m\"\u001b[39m, nrows)\n\u001b[0;32m   1772\u001b[0m \u001b[38;5;28;01mtry\u001b[39;00m:\n\u001b[0;32m   1773\u001b[0m     \u001b[38;5;66;03m# error: \"ParserBase\" has no attribute \"read\"\u001b[39;00m\n\u001b[0;32m   1774\u001b[0m     (\n\u001b[0;32m   1775\u001b[0m         index,\n\u001b[0;32m   1776\u001b[0m         columns,\n\u001b[0;32m   1777\u001b[0m         col_dict,\n\u001b[1;32m-> 1778\u001b[0m     ) \u001b[38;5;241m=\u001b[39m \u001b[38;5;28;43mself\u001b[39;49m\u001b[38;5;241;43m.\u001b[39;49m\u001b[43m_engine\u001b[49m\u001b[38;5;241;43m.\u001b[39;49m\u001b[43mread\u001b[49m\u001b[43m(\u001b[49m\u001b[43m  \u001b[49m\u001b[38;5;66;43;03m# type: ignore[attr-defined]\u001b[39;49;00m\n\u001b[0;32m   1779\u001b[0m \u001b[43m        \u001b[49m\u001b[43mnrows\u001b[49m\n\u001b[0;32m   1780\u001b[0m \u001b[43m    \u001b[49m\u001b[43m)\u001b[49m\n\u001b[0;32m   1781\u001b[0m \u001b[38;5;28;01mexcept\u001b[39;00m \u001b[38;5;167;01mException\u001b[39;00m:\n\u001b[0;32m   1782\u001b[0m     \u001b[38;5;28mself\u001b[39m\u001b[38;5;241m.\u001b[39mclose()\n",
      "File \u001b[1;32m~\\anaconda3\\lib\\site-packages\\pandas\\io\\parsers\\c_parser_wrapper.py:230\u001b[0m, in \u001b[0;36mCParserWrapper.read\u001b[1;34m(self, nrows)\u001b[0m\n\u001b[0;32m    228\u001b[0m \u001b[38;5;28;01mtry\u001b[39;00m:\n\u001b[0;32m    229\u001b[0m     \u001b[38;5;28;01mif\u001b[39;00m \u001b[38;5;28mself\u001b[39m\u001b[38;5;241m.\u001b[39mlow_memory:\n\u001b[1;32m--> 230\u001b[0m         chunks \u001b[38;5;241m=\u001b[39m \u001b[38;5;28;43mself\u001b[39;49m\u001b[38;5;241;43m.\u001b[39;49m\u001b[43m_reader\u001b[49m\u001b[38;5;241;43m.\u001b[39;49m\u001b[43mread_low_memory\u001b[49m\u001b[43m(\u001b[49m\u001b[43mnrows\u001b[49m\u001b[43m)\u001b[49m\n\u001b[0;32m    231\u001b[0m         \u001b[38;5;66;03m# destructive to chunks\u001b[39;00m\n\u001b[0;32m    232\u001b[0m         data \u001b[38;5;241m=\u001b[39m _concatenate_chunks(chunks)\n",
      "File \u001b[1;32m~\\anaconda3\\lib\\site-packages\\pandas\\_libs\\parsers.pyx:808\u001b[0m, in \u001b[0;36mpandas._libs.parsers.TextReader.read_low_memory\u001b[1;34m()\u001b[0m\n",
      "File \u001b[1;32m~\\anaconda3\\lib\\site-packages\\pandas\\_libs\\parsers.pyx:866\u001b[0m, in \u001b[0;36mpandas._libs.parsers.TextReader._read_rows\u001b[1;34m()\u001b[0m\n",
      "File \u001b[1;32m~\\anaconda3\\lib\\site-packages\\pandas\\_libs\\parsers.pyx:852\u001b[0m, in \u001b[0;36mpandas._libs.parsers.TextReader._tokenize_rows\u001b[1;34m()\u001b[0m\n",
      "File \u001b[1;32m~\\anaconda3\\lib\\site-packages\\pandas\\_libs\\parsers.pyx:1973\u001b[0m, in \u001b[0;36mpandas._libs.parsers.raise_parser_error\u001b[1;34m()\u001b[0m\n",
      "\u001b[1;31mParserError\u001b[0m: Error tokenizing data. C error: Calling read(nbytes) on source failed. Try engine='python'."
     ]
    }
   ],
   "source": [
    "animelists = pd.read_csv('animelists_cleaned.csv')"
   ]
  },
  {
   "cell_type": "code",
   "execution_count": 37,
   "metadata": {},
   "outputs": [],
   "source": [
    "animelists = animelists.sort_values(by='username')"
   ]
  },
  {
   "cell_type": "code",
   "execution_count": 22,
   "metadata": {},
   "outputs": [],
   "source": [
    "# drop null values in username\n",
    "animelists = animelists.dropna(subset=['username'])"
   ]
  },
  {
   "cell_type": "code",
   "execution_count": 24,
   "metadata": {},
   "outputs": [],
   "source": [
    "# drop columns my_start_date and my_finish_date\n",
    "animelists = animelists.drop(columns=['my_start_date', 'my_finish_date'])"
   ]
  },
  {
   "cell_type": "code",
   "execution_count": 26,
   "metadata": {},
   "outputs": [],
   "source": [
    "# drop my_tags column because it is not needed\n",
    "animelists = animelists.drop(columns=['my_tags'])"
   ]
  },
  {
   "cell_type": "code",
   "execution_count": 36,
   "metadata": {},
   "outputs": [],
   "source": [
    "# drop column my_last_updated because it is not needed\n",
    "animelists = animelists.drop(columns=['my_last_updated'])"
   ]
  },
  {
   "cell_type": "code",
   "execution_count": 38,
   "metadata": {},
   "outputs": [
    {
     "data": {
      "text/html": [
       "<div>\n",
       "<style scoped>\n",
       "    .dataframe tbody tr th:only-of-type {\n",
       "        vertical-align: middle;\n",
       "    }\n",
       "\n",
       "    .dataframe tbody tr th {\n",
       "        vertical-align: top;\n",
       "    }\n",
       "\n",
       "    .dataframe thead th {\n",
       "        text-align: right;\n",
       "    }\n",
       "</style>\n",
       "<table border=\"1\" class=\"dataframe\">\n",
       "  <thead>\n",
       "    <tr style=\"text-align: right;\">\n",
       "      <th></th>\n",
       "      <th>username</th>\n",
       "      <th>anime_id</th>\n",
       "      <th>my_watched_episodes</th>\n",
       "      <th>my_score</th>\n",
       "      <th>my_status</th>\n",
       "      <th>my_rewatching</th>\n",
       "      <th>my_rewatching_ep</th>\n",
       "    </tr>\n",
       "  </thead>\n",
       "  <tbody>\n",
       "    <tr>\n",
       "      <th>6740075</th>\n",
       "      <td>----phoebelyn</td>\n",
       "      <td>949</td>\n",
       "      <td>6</td>\n",
       "      <td>0</td>\n",
       "      <td>2</td>\n",
       "      <td>0.0</td>\n",
       "      <td>0</td>\n",
       "    </tr>\n",
       "    <tr>\n",
       "      <th>6739996</th>\n",
       "      <td>----phoebelyn</td>\n",
       "      <td>120</td>\n",
       "      <td>0</td>\n",
       "      <td>0</td>\n",
       "      <td>6</td>\n",
       "      <td>0.0</td>\n",
       "      <td>0</td>\n",
       "    </tr>\n",
       "    <tr>\n",
       "      <th>6739998</th>\n",
       "      <td>----phoebelyn</td>\n",
       "      <td>957</td>\n",
       "      <td>39</td>\n",
       "      <td>0</td>\n",
       "      <td>2</td>\n",
       "      <td>0.0</td>\n",
       "      <td>0</td>\n",
       "    </tr>\n",
       "    <tr>\n",
       "      <th>6739999</th>\n",
       "      <td>----phoebelyn</td>\n",
       "      <td>1571</td>\n",
       "      <td>0</td>\n",
       "      <td>0</td>\n",
       "      <td>3</td>\n",
       "      <td>0.0</td>\n",
       "      <td>0</td>\n",
       "    </tr>\n",
       "    <tr>\n",
       "      <th>6740000</th>\n",
       "      <td>----phoebelyn</td>\n",
       "      <td>1579</td>\n",
       "      <td>0</td>\n",
       "      <td>10</td>\n",
       "      <td>3</td>\n",
       "      <td>0.0</td>\n",
       "      <td>0</td>\n",
       "    </tr>\n",
       "    <tr>\n",
       "      <th>...</th>\n",
       "      <td>...</td>\n",
       "      <td>...</td>\n",
       "      <td>...</td>\n",
       "      <td>...</td>\n",
       "      <td>...</td>\n",
       "      <td>...</td>\n",
       "      <td>...</td>\n",
       "    </tr>\n",
       "    <tr>\n",
       "      <th>6085370</th>\n",
       "      <td>zzzzz-chan</td>\n",
       "      <td>23421</td>\n",
       "      <td>0</td>\n",
       "      <td>0</td>\n",
       "      <td>6</td>\n",
       "      <td>0.0</td>\n",
       "      <td>0</td>\n",
       "    </tr>\n",
       "    <tr>\n",
       "      <th>6085243</th>\n",
       "      <td>zzzzz-chan</td>\n",
       "      <td>532</td>\n",
       "      <td>38</td>\n",
       "      <td>8</td>\n",
       "      <td>2</td>\n",
       "      <td>0.0</td>\n",
       "      <td>0</td>\n",
       "    </tr>\n",
       "    <tr>\n",
       "      <th>6085153</th>\n",
       "      <td>zzzzz-chan</td>\n",
       "      <td>21105</td>\n",
       "      <td>10</td>\n",
       "      <td>7</td>\n",
       "      <td>2</td>\n",
       "      <td>NaN</td>\n",
       "      <td>0</td>\n",
       "    </tr>\n",
       "    <tr>\n",
       "      <th>6085401</th>\n",
       "      <td>zzzzz-chan</td>\n",
       "      <td>32983</td>\n",
       "      <td>0</td>\n",
       "      <td>0</td>\n",
       "      <td>6</td>\n",
       "      <td>0.0</td>\n",
       "      <td>0</td>\n",
       "    </tr>\n",
       "    <tr>\n",
       "      <th>6085158</th>\n",
       "      <td>zzzzz-chan</td>\n",
       "      <td>22265</td>\n",
       "      <td>13</td>\n",
       "      <td>9</td>\n",
       "      <td>2</td>\n",
       "      <td>NaN</td>\n",
       "      <td>0</td>\n",
       "    </tr>\n",
       "  </tbody>\n",
       "</table>\n",
       "<p>31283787 rows × 7 columns</p>\n",
       "</div>"
      ],
      "text/plain": [
       "              username  anime_id  my_watched_episodes  my_score  my_status  \\\n",
       "6740075  ----phoebelyn       949                    6         0          2   \n",
       "6739996  ----phoebelyn       120                    0         0          6   \n",
       "6739998  ----phoebelyn       957                   39         0          2   \n",
       "6739999  ----phoebelyn      1571                    0         0          3   \n",
       "6740000  ----phoebelyn      1579                    0        10          3   \n",
       "...                ...       ...                  ...       ...        ...   \n",
       "6085370     zzzzz-chan     23421                    0         0          6   \n",
       "6085243     zzzzz-chan       532                   38         8          2   \n",
       "6085153     zzzzz-chan     21105                   10         7          2   \n",
       "6085401     zzzzz-chan     32983                    0         0          6   \n",
       "6085158     zzzzz-chan     22265                   13         9          2   \n",
       "\n",
       "         my_rewatching  my_rewatching_ep  \n",
       "6740075            0.0                 0  \n",
       "6739996            0.0                 0  \n",
       "6739998            0.0                 0  \n",
       "6739999            0.0                 0  \n",
       "6740000            0.0                 0  \n",
       "...                ...               ...  \n",
       "6085370            0.0                 0  \n",
       "6085243            0.0                 0  \n",
       "6085153            NaN                 0  \n",
       "6085401            0.0                 0  \n",
       "6085158            NaN                 0  \n",
       "\n",
       "[31283787 rows x 7 columns]"
      ]
     },
     "execution_count": 38,
     "metadata": {},
     "output_type": "execute_result"
    }
   ],
   "source": [
    "animelists"
   ]
  },
  {
   "cell_type": "code",
   "execution_count": 74,
   "metadata": {},
   "outputs": [
    {
     "name": "stdout",
     "output_type": "stream",
     "text": [
      "<class 'pandas.core.frame.DataFrame'>\n",
      "Int64Index: 31283787 entries, 6740075 to 6085158\n",
      "Data columns (total 7 columns):\n",
      " #   Column               Dtype  \n",
      "---  ------               -----  \n",
      " 0   username             object \n",
      " 1   anime_id             int64  \n",
      " 2   my_watched_episodes  int64  \n",
      " 3   my_score             int64  \n",
      " 4   my_status            int64  \n",
      " 5   my_rewatching        float64\n",
      " 6   my_rewatching_ep     int64  \n",
      "dtypes: float64(1), int64(5), object(1)\n",
      "memory usage: 1.9+ GB\n"
     ]
    }
   ],
   "source": [
    "animelists.info()"
   ]
  },
  {
   "cell_type": "code",
   "execution_count": 73,
   "metadata": {},
   "outputs": [
    {
     "data": {
      "text/html": [
       "<div>\n",
       "<style scoped>\n",
       "    .dataframe tbody tr th:only-of-type {\n",
       "        vertical-align: middle;\n",
       "    }\n",
       "\n",
       "    .dataframe tbody tr th {\n",
       "        vertical-align: top;\n",
       "    }\n",
       "\n",
       "    .dataframe thead th {\n",
       "        text-align: right;\n",
       "    }\n",
       "</style>\n",
       "<table border=\"1\" class=\"dataframe\">\n",
       "  <thead>\n",
       "    <tr style=\"text-align: right;\">\n",
       "      <th></th>\n",
       "      <th>anime_id</th>\n",
       "      <th>my_watched_episodes</th>\n",
       "      <th>my_score</th>\n",
       "      <th>my_status</th>\n",
       "      <th>my_rewatching</th>\n",
       "      <th>my_rewatching_ep</th>\n",
       "    </tr>\n",
       "  </thead>\n",
       "  <tbody>\n",
       "    <tr>\n",
       "      <th>count</th>\n",
       "      <td>3.128379e+07</td>\n",
       "      <td>3.128379e+07</td>\n",
       "      <td>3.128379e+07</td>\n",
       "      <td>3.128379e+07</td>\n",
       "      <td>2.440557e+07</td>\n",
       "      <td>3.128379e+07</td>\n",
       "    </tr>\n",
       "    <tr>\n",
       "      <th>mean</th>\n",
       "      <td>1.170324e+04</td>\n",
       "      <td>1.289617e+01</td>\n",
       "      <td>4.652314e+00</td>\n",
       "      <td>3.008110e+00</td>\n",
       "      <td>7.903113e-04</td>\n",
       "      <td>1.833008e-01</td>\n",
       "    </tr>\n",
       "    <tr>\n",
       "      <th>std</th>\n",
       "      <td>1.134843e+04</td>\n",
       "      <td>3.733389e+01</td>\n",
       "      <td>3.931616e+00</td>\n",
       "      <td>1.730421e+00</td>\n",
       "      <td>2.810137e-02</td>\n",
       "      <td>1.009176e+03</td>\n",
       "    </tr>\n",
       "    <tr>\n",
       "      <th>min</th>\n",
       "      <td>1.000000e+00</td>\n",
       "      <td>0.000000e+00</td>\n",
       "      <td>0.000000e+00</td>\n",
       "      <td>0.000000e+00</td>\n",
       "      <td>0.000000e+00</td>\n",
       "      <td>0.000000e+00</td>\n",
       "    </tr>\n",
       "    <tr>\n",
       "      <th>25%</th>\n",
       "      <td>1.601000e+03</td>\n",
       "      <td>0.000000e+00</td>\n",
       "      <td>0.000000e+00</td>\n",
       "      <td>2.000000e+00</td>\n",
       "      <td>0.000000e+00</td>\n",
       "      <td>0.000000e+00</td>\n",
       "    </tr>\n",
       "    <tr>\n",
       "      <th>50%</th>\n",
       "      <td>8.086000e+03</td>\n",
       "      <td>4.000000e+00</td>\n",
       "      <td>6.000000e+00</td>\n",
       "      <td>2.000000e+00</td>\n",
       "      <td>0.000000e+00</td>\n",
       "      <td>0.000000e+00</td>\n",
       "    </tr>\n",
       "    <tr>\n",
       "      <th>75%</th>\n",
       "      <td>1.977500e+04</td>\n",
       "      <td>1.300000e+01</td>\n",
       "      <td>8.000000e+00</td>\n",
       "      <td>4.000000e+00</td>\n",
       "      <td>0.000000e+00</td>\n",
       "      <td>0.000000e+00</td>\n",
       "    </tr>\n",
       "    <tr>\n",
       "      <th>max</th>\n",
       "      <td>3.789600e+04</td>\n",
       "      <td>9.999000e+03</td>\n",
       "      <td>1.000000e+01</td>\n",
       "      <td>5.500000e+01</td>\n",
       "      <td>1.000000e+00</td>\n",
       "      <td>5.644513e+06</td>\n",
       "    </tr>\n",
       "  </tbody>\n",
       "</table>\n",
       "</div>"
      ],
      "text/plain": [
       "           anime_id  my_watched_episodes      my_score     my_status  \\\n",
       "count  3.128379e+07         3.128379e+07  3.128379e+07  3.128379e+07   \n",
       "mean   1.170324e+04         1.289617e+01  4.652314e+00  3.008110e+00   \n",
       "std    1.134843e+04         3.733389e+01  3.931616e+00  1.730421e+00   \n",
       "min    1.000000e+00         0.000000e+00  0.000000e+00  0.000000e+00   \n",
       "25%    1.601000e+03         0.000000e+00  0.000000e+00  2.000000e+00   \n",
       "50%    8.086000e+03         4.000000e+00  6.000000e+00  2.000000e+00   \n",
       "75%    1.977500e+04         1.300000e+01  8.000000e+00  4.000000e+00   \n",
       "max    3.789600e+04         9.999000e+03  1.000000e+01  5.500000e+01   \n",
       "\n",
       "       my_rewatching  my_rewatching_ep  \n",
       "count   2.440557e+07      3.128379e+07  \n",
       "mean    7.903113e-04      1.833008e-01  \n",
       "std     2.810137e-02      1.009176e+03  \n",
       "min     0.000000e+00      0.000000e+00  \n",
       "25%     0.000000e+00      0.000000e+00  \n",
       "50%     0.000000e+00      0.000000e+00  \n",
       "75%     0.000000e+00      0.000000e+00  \n",
       "max     1.000000e+00      5.644513e+06  "
      ]
     },
     "execution_count": 73,
     "metadata": {},
     "output_type": "execute_result"
    }
   ],
   "source": [
    "animelists.describe()"
   ]
  },
  {
   "cell_type": "markdown",
   "metadata": {},
   "source": [
    "###  Data set Anime"
   ]
  },
  {
   "cell_type": "code",
   "execution_count": 4,
   "metadata": {},
   "outputs": [],
   "source": [
    "anime = anime.drop(columns=[\n",
    "    'image_url', 'background', 'related', 'premiered', 'broadcast',\n",
    "    'opening_theme', 'ending_theme', 'title_english', 'title_japanese', 'title_synonyms',\n",
    "    'airing', 'aired_string', 'licensor', 'producer'\n",
    "    ])"
   ]
  },
  {
   "cell_type": "code",
   "execution_count": 5,
   "metadata": {},
   "outputs": [
    {
     "name": "stdout",
     "output_type": "stream",
     "text": [
      "<class 'pandas.core.frame.DataFrame'>\n",
      "RangeIndex: 6668 entries, 0 to 6667\n",
      "Data columns (total 19 columns):\n",
      " #   Column           Non-Null Count  Dtype  \n",
      "---  ------           --------------  -----  \n",
      " 0   anime_id         6668 non-null   int64  \n",
      " 1   title            6668 non-null   object \n",
      " 2   type             6668 non-null   object \n",
      " 3   source           6668 non-null   object \n",
      " 4   episodes         6668 non-null   int64  \n",
      " 5   status           6668 non-null   object \n",
      " 6   aired            6668 non-null   object \n",
      " 7   duration         6668 non-null   object \n",
      " 8   rating           6668 non-null   object \n",
      " 9   score            6668 non-null   float64\n",
      " 10  scored_by        6668 non-null   int64  \n",
      " 11  rank             6312 non-null   float64\n",
      " 12  popularity       6668 non-null   int64  \n",
      " 13  members          6668 non-null   int64  \n",
      " 14  favorites        6668 non-null   int64  \n",
      " 15  studio           6668 non-null   object \n",
      " 16  genre            6664 non-null   object \n",
      " 17  duration_min     6668 non-null   float64\n",
      " 18  aired_from_year  6668 non-null   float64\n",
      "dtypes: float64(4), int64(6), object(9)\n",
      "memory usage: 989.9+ KB\n"
     ]
    }
   ],
   "source": [
    "anime.info()"
   ]
  },
  {
   "cell_type": "code",
   "execution_count": 6,
   "metadata": {},
   "outputs": [
    {
     "data": {
      "text/html": [
       "<div>\n",
       "<style scoped>\n",
       "    .dataframe tbody tr th:only-of-type {\n",
       "        vertical-align: middle;\n",
       "    }\n",
       "\n",
       "    .dataframe tbody tr th {\n",
       "        vertical-align: top;\n",
       "    }\n",
       "\n",
       "    .dataframe thead th {\n",
       "        text-align: right;\n",
       "    }\n",
       "</style>\n",
       "<table border=\"1\" class=\"dataframe\">\n",
       "  <thead>\n",
       "    <tr style=\"text-align: right;\">\n",
       "      <th></th>\n",
       "      <th>anime_id</th>\n",
       "      <th>episodes</th>\n",
       "      <th>score</th>\n",
       "      <th>scored_by</th>\n",
       "      <th>rank</th>\n",
       "      <th>popularity</th>\n",
       "      <th>members</th>\n",
       "      <th>favorites</th>\n",
       "      <th>duration_min</th>\n",
       "      <th>aired_from_year</th>\n",
       "    </tr>\n",
       "  </thead>\n",
       "  <tbody>\n",
       "    <tr>\n",
       "      <th>count</th>\n",
       "      <td>6668.000000</td>\n",
       "      <td>6668.000000</td>\n",
       "      <td>6668.000000</td>\n",
       "      <td>6.668000e+03</td>\n",
       "      <td>6312.000000</td>\n",
       "      <td>6668.000000</td>\n",
       "      <td>6.668000e+03</td>\n",
       "      <td>6668.000000</td>\n",
       "      <td>6668.000000</td>\n",
       "      <td>6668.000000</td>\n",
       "    </tr>\n",
       "    <tr>\n",
       "      <th>mean</th>\n",
       "      <td>15064.977804</td>\n",
       "      <td>14.276395</td>\n",
       "      <td>6.848998</td>\n",
       "      <td>2.403501e+04</td>\n",
       "      <td>4327.645120</td>\n",
       "      <td>4479.515897</td>\n",
       "      <td>4.749037e+04</td>\n",
       "      <td>670.365627</td>\n",
       "      <td>28.442167</td>\n",
       "      <td>2006.915267</td>\n",
       "    </tr>\n",
       "    <tr>\n",
       "      <th>std</th>\n",
       "      <td>13161.364001</td>\n",
       "      <td>40.906929</td>\n",
       "      <td>0.927448</td>\n",
       "      <td>6.112103e+04</td>\n",
       "      <td>3170.699074</td>\n",
       "      <td>3453.338080</td>\n",
       "      <td>1.051211e+05</td>\n",
       "      <td>3823.072834</td>\n",
       "      <td>25.365980</td>\n",
       "      <td>10.381425</td>\n",
       "    </tr>\n",
       "    <tr>\n",
       "      <th>min</th>\n",
       "      <td>1.000000</td>\n",
       "      <td>0.000000</td>\n",
       "      <td>0.000000</td>\n",
       "      <td>0.000000e+00</td>\n",
       "      <td>1.000000</td>\n",
       "      <td>1.000000</td>\n",
       "      <td>1.800000e+01</td>\n",
       "      <td>0.000000</td>\n",
       "      <td>0.000000</td>\n",
       "      <td>1942.000000</td>\n",
       "    </tr>\n",
       "    <tr>\n",
       "      <th>25%</th>\n",
       "      <td>2592.000000</td>\n",
       "      <td>1.000000</td>\n",
       "      <td>6.350000</td>\n",
       "      <td>6.812500e+02</td>\n",
       "      <td>1710.750000</td>\n",
       "      <td>1691.750000</td>\n",
       "      <td>2.222750e+03</td>\n",
       "      <td>3.000000</td>\n",
       "      <td>17.000000</td>\n",
       "      <td>2003.000000</td>\n",
       "    </tr>\n",
       "    <tr>\n",
       "      <th>50%</th>\n",
       "      <td>10401.500000</td>\n",
       "      <td>6.000000</td>\n",
       "      <td>6.930000</td>\n",
       "      <td>3.966000e+03</td>\n",
       "      <td>3754.500000</td>\n",
       "      <td>3629.500000</td>\n",
       "      <td>1.033650e+04</td>\n",
       "      <td>21.000000</td>\n",
       "      <td>24.000000</td>\n",
       "      <td>2010.000000</td>\n",
       "    </tr>\n",
       "    <tr>\n",
       "      <th>75%</th>\n",
       "      <td>30301.250000</td>\n",
       "      <td>13.000000</td>\n",
       "      <td>7.460000</td>\n",
       "      <td>1.976075e+04</td>\n",
       "      <td>6338.500000</td>\n",
       "      <td>6630.250000</td>\n",
       "      <td>4.336000e+04</td>\n",
       "      <td>142.000000</td>\n",
       "      <td>27.000000</td>\n",
       "      <td>2015.000000</td>\n",
       "    </tr>\n",
       "    <tr>\n",
       "      <th>max</th>\n",
       "      <td>37896.000000</td>\n",
       "      <td>1818.000000</td>\n",
       "      <td>9.520000</td>\n",
       "      <td>1.009477e+06</td>\n",
       "      <td>12856.000000</td>\n",
       "      <td>14468.000000</td>\n",
       "      <td>1.456378e+06</td>\n",
       "      <td>106895.000000</td>\n",
       "      <td>163.000000</td>\n",
       "      <td>2018.000000</td>\n",
       "    </tr>\n",
       "  </tbody>\n",
       "</table>\n",
       "</div>"
      ],
      "text/plain": [
       "           anime_id     episodes        score     scored_by          rank  \\\n",
       "count   6668.000000  6668.000000  6668.000000  6.668000e+03   6312.000000   \n",
       "mean   15064.977804    14.276395     6.848998  2.403501e+04   4327.645120   \n",
       "std    13161.364001    40.906929     0.927448  6.112103e+04   3170.699074   \n",
       "min        1.000000     0.000000     0.000000  0.000000e+00      1.000000   \n",
       "25%     2592.000000     1.000000     6.350000  6.812500e+02   1710.750000   \n",
       "50%    10401.500000     6.000000     6.930000  3.966000e+03   3754.500000   \n",
       "75%    30301.250000    13.000000     7.460000  1.976075e+04   6338.500000   \n",
       "max    37896.000000  1818.000000     9.520000  1.009477e+06  12856.000000   \n",
       "\n",
       "         popularity       members      favorites  duration_min  \\\n",
       "count   6668.000000  6.668000e+03    6668.000000   6668.000000   \n",
       "mean    4479.515897  4.749037e+04     670.365627     28.442167   \n",
       "std     3453.338080  1.051211e+05    3823.072834     25.365980   \n",
       "min        1.000000  1.800000e+01       0.000000      0.000000   \n",
       "25%     1691.750000  2.222750e+03       3.000000     17.000000   \n",
       "50%     3629.500000  1.033650e+04      21.000000     24.000000   \n",
       "75%     6630.250000  4.336000e+04     142.000000     27.000000   \n",
       "max    14468.000000  1.456378e+06  106895.000000    163.000000   \n",
       "\n",
       "       aired_from_year  \n",
       "count      6668.000000  \n",
       "mean       2006.915267  \n",
       "std          10.381425  \n",
       "min        1942.000000  \n",
       "25%        2003.000000  \n",
       "50%        2010.000000  \n",
       "75%        2015.000000  \n",
       "max        2018.000000  "
      ]
     },
     "execution_count": 6,
     "metadata": {},
     "output_type": "execute_result"
    }
   ],
   "source": [
    "anime.describe()"
   ]
  },
  {
   "cell_type": "markdown",
   "metadata": {},
   "source": [
    "### Data set Users"
   ]
  },
  {
   "cell_type": "code",
   "execution_count": 7,
   "metadata": {},
   "outputs": [],
   "source": [
    "users = users.drop(columns=[\"location\", \"access_rank\"])"
   ]
  },
  {
   "cell_type": "code",
   "execution_count": 8,
   "metadata": {},
   "outputs": [],
   "source": [
    "# generate new column age based on birth_date\n",
    "users['age'] = 2018 - users['birth_date'].str[:4].astype(int)"
   ]
  },
  {
   "cell_type": "code",
   "execution_count": 9,
   "metadata": {},
   "outputs": [
    {
     "name": "stdout",
     "output_type": "stream",
     "text": [
      "<class 'pandas.core.frame.DataFrame'>\n",
      "RangeIndex: 108711 entries, 0 to 108710\n",
      "Data columns (total 16 columns):\n",
      " #   Column                    Non-Null Count   Dtype  \n",
      "---  ------                    --------------   -----  \n",
      " 0   username                  108710 non-null  object \n",
      " 1   user_id                   108711 non-null  int64  \n",
      " 2   user_watching             108711 non-null  int64  \n",
      " 3   user_completed            108711 non-null  int64  \n",
      " 4   user_onhold               108711 non-null  int64  \n",
      " 5   user_dropped              108711 non-null  int64  \n",
      " 6   user_plantowatch          108711 non-null  int64  \n",
      " 7   user_days_spent_watching  108711 non-null  float64\n",
      " 8   gender                    108711 non-null  object \n",
      " 9   birth_date                108711 non-null  object \n",
      " 10  join_date                 108711 non-null  object \n",
      " 11  last_online               108711 non-null  object \n",
      " 12  stats_mean_score          108711 non-null  float64\n",
      " 13  stats_rewatched           108711 non-null  float64\n",
      " 14  stats_episodes            108711 non-null  int64  \n",
      " 15  age                       108711 non-null  int32  \n",
      "dtypes: float64(3), int32(1), int64(7), object(5)\n",
      "memory usage: 12.9+ MB\n"
     ]
    }
   ],
   "source": [
    "users.info()"
   ]
  },
  {
   "cell_type": "code",
   "execution_count": 10,
   "metadata": {},
   "outputs": [
    {
     "data": {
      "text/html": [
       "<div>\n",
       "<style scoped>\n",
       "    .dataframe tbody tr th:only-of-type {\n",
       "        vertical-align: middle;\n",
       "    }\n",
       "\n",
       "    .dataframe tbody tr th {\n",
       "        vertical-align: top;\n",
       "    }\n",
       "\n",
       "    .dataframe thead th {\n",
       "        text-align: right;\n",
       "    }\n",
       "</style>\n",
       "<table border=\"1\" class=\"dataframe\">\n",
       "  <thead>\n",
       "    <tr style=\"text-align: right;\">\n",
       "      <th></th>\n",
       "      <th>user_id</th>\n",
       "      <th>user_watching</th>\n",
       "      <th>user_completed</th>\n",
       "      <th>user_onhold</th>\n",
       "      <th>user_dropped</th>\n",
       "      <th>user_plantowatch</th>\n",
       "      <th>user_days_spent_watching</th>\n",
       "      <th>stats_mean_score</th>\n",
       "      <th>stats_rewatched</th>\n",
       "      <th>stats_episodes</th>\n",
       "      <th>age</th>\n",
       "    </tr>\n",
       "  </thead>\n",
       "  <tbody>\n",
       "    <tr>\n",
       "      <th>count</th>\n",
       "      <td>1.087110e+05</td>\n",
       "      <td>108711.000000</td>\n",
       "      <td>108711.000000</td>\n",
       "      <td>108711.000000</td>\n",
       "      <td>108711.000000</td>\n",
       "      <td>108711.000000</td>\n",
       "      <td>108711.000000</td>\n",
       "      <td>108711.000000</td>\n",
       "      <td>108711.000000</td>\n",
       "      <td>108711.000000</td>\n",
       "      <td>108711.000000</td>\n",
       "    </tr>\n",
       "    <tr>\n",
       "      <th>mean</th>\n",
       "      <td>1.817687e+06</td>\n",
       "      <td>14.767503</td>\n",
       "      <td>196.458178</td>\n",
       "      <td>11.388167</td>\n",
       "      <td>11.733716</td>\n",
       "      <td>75.578589</td>\n",
       "      <td>61.913873</td>\n",
       "      <td>7.747612</td>\n",
       "      <td>14.197993</td>\n",
       "      <td>3779.871255</td>\n",
       "      <td>25.125820</td>\n",
       "    </tr>\n",
       "    <tr>\n",
       "      <th>std</th>\n",
       "      <td>1.998269e+06</td>\n",
       "      <td>32.746591</td>\n",
       "      <td>244.945751</td>\n",
       "      <td>30.830825</td>\n",
       "      <td>30.978991</td>\n",
       "      <td>178.653664</td>\n",
       "      <td>59.211762</td>\n",
       "      <td>1.451368</td>\n",
       "      <td>55.376799</td>\n",
       "      <td>3678.336729</td>\n",
       "      <td>4.632399</td>\n",
       "    </tr>\n",
       "    <tr>\n",
       "      <th>min</th>\n",
       "      <td>1.000000e+00</td>\n",
       "      <td>0.000000</td>\n",
       "      <td>0.000000</td>\n",
       "      <td>0.000000</td>\n",
       "      <td>0.000000</td>\n",
       "      <td>0.000000</td>\n",
       "      <td>0.500694</td>\n",
       "      <td>0.000000</td>\n",
       "      <td>0.000000</td>\n",
       "      <td>7.000000</td>\n",
       "      <td>10.000000</td>\n",
       "    </tr>\n",
       "    <tr>\n",
       "      <th>25%</th>\n",
       "      <td>1.994345e+05</td>\n",
       "      <td>3.000000</td>\n",
       "      <td>50.000000</td>\n",
       "      <td>0.000000</td>\n",
       "      <td>0.000000</td>\n",
       "      <td>6.000000</td>\n",
       "      <td>21.066319</td>\n",
       "      <td>7.330000</td>\n",
       "      <td>0.000000</td>\n",
       "      <td>1269.500000</td>\n",
       "      <td>22.000000</td>\n",
       "    </tr>\n",
       "    <tr>\n",
       "      <th>50%</th>\n",
       "      <td>5.675030e+05</td>\n",
       "      <td>7.000000</td>\n",
       "      <td>123.000000</td>\n",
       "      <td>4.000000</td>\n",
       "      <td>3.000000</td>\n",
       "      <td>27.000000</td>\n",
       "      <td>46.190278</td>\n",
       "      <td>7.890000</td>\n",
       "      <td>1.000000</td>\n",
       "      <td>2797.000000</td>\n",
       "      <td>25.000000</td>\n",
       "    </tr>\n",
       "    <tr>\n",
       "      <th>75%</th>\n",
       "      <td>3.477036e+06</td>\n",
       "      <td>16.000000</td>\n",
       "      <td>254.000000</td>\n",
       "      <td>12.000000</td>\n",
       "      <td>12.000000</td>\n",
       "      <td>81.000000</td>\n",
       "      <td>84.461806</td>\n",
       "      <td>8.460000</td>\n",
       "      <td>10.000000</td>\n",
       "      <td>5135.000000</td>\n",
       "      <td>28.000000</td>\n",
       "    </tr>\n",
       "    <tr>\n",
       "      <th>max</th>\n",
       "      <td>7.251737e+06</td>\n",
       "      <td>2934.000000</td>\n",
       "      <td>5479.000000</td>\n",
       "      <td>2562.000000</td>\n",
       "      <td>2457.000000</td>\n",
       "      <td>12051.000000</td>\n",
       "      <td>952.654595</td>\n",
       "      <td>10.000000</td>\n",
       "      <td>9404.000000</td>\n",
       "      <td>62347.000000</td>\n",
       "      <td>49.000000</td>\n",
       "    </tr>\n",
       "  </tbody>\n",
       "</table>\n",
       "</div>"
      ],
      "text/plain": [
       "            user_id  user_watching  user_completed    user_onhold  \\\n",
       "count  1.087110e+05  108711.000000   108711.000000  108711.000000   \n",
       "mean   1.817687e+06      14.767503      196.458178      11.388167   \n",
       "std    1.998269e+06      32.746591      244.945751      30.830825   \n",
       "min    1.000000e+00       0.000000        0.000000       0.000000   \n",
       "25%    1.994345e+05       3.000000       50.000000       0.000000   \n",
       "50%    5.675030e+05       7.000000      123.000000       4.000000   \n",
       "75%    3.477036e+06      16.000000      254.000000      12.000000   \n",
       "max    7.251737e+06    2934.000000     5479.000000    2562.000000   \n",
       "\n",
       "        user_dropped  user_plantowatch  user_days_spent_watching  \\\n",
       "count  108711.000000     108711.000000             108711.000000   \n",
       "mean       11.733716         75.578589                 61.913873   \n",
       "std        30.978991        178.653664                 59.211762   \n",
       "min         0.000000          0.000000                  0.500694   \n",
       "25%         0.000000          6.000000                 21.066319   \n",
       "50%         3.000000         27.000000                 46.190278   \n",
       "75%        12.000000         81.000000                 84.461806   \n",
       "max      2457.000000      12051.000000                952.654595   \n",
       "\n",
       "       stats_mean_score  stats_rewatched  stats_episodes            age  \n",
       "count     108711.000000    108711.000000   108711.000000  108711.000000  \n",
       "mean           7.747612        14.197993     3779.871255      25.125820  \n",
       "std            1.451368        55.376799     3678.336729       4.632399  \n",
       "min            0.000000         0.000000        7.000000      10.000000  \n",
       "25%            7.330000         0.000000     1269.500000      22.000000  \n",
       "50%            7.890000         1.000000     2797.000000      25.000000  \n",
       "75%            8.460000        10.000000     5135.000000      28.000000  \n",
       "max           10.000000      9404.000000    62347.000000      49.000000  "
      ]
     },
     "execution_count": 10,
     "metadata": {},
     "output_type": "execute_result"
    }
   ],
   "source": [
    "users.describe()"
   ]
  },
  {
   "cell_type": "markdown",
   "metadata": {},
   "source": [
    "# Análisis más profundo"
   ]
  },
  {
   "cell_type": "markdown",
   "metadata": {},
   "source": [
    "Se realizan consultas sobre las tablas de las cuales derivarán las preguntas a realizar en los siguientes hitos. "
   ]
  },
  {
   "cell_type": "markdown",
   "metadata": {},
   "source": [
    "### Consulta 1:  Top 20 animes mejor y peor evaluados"
   ]
  },
  {
   "cell_type": "markdown",
   "metadata": {},
   "source": [
    "Se crean dos grafico que muestran los 20 animes mejor y peor evaluados. Se filtran aquellos animes que han sido evaluados menos de 24000 veces, siendo este ultimo valor una aproximacion del promedio de la cantidad de evaluaciones que reciben los animes en este dataset."
   ]
  },
  {
   "cell_type": "code",
   "execution_count": 96,
   "metadata": {},
   "outputs": [],
   "source": [
    "# proyecta las columnas username y anime_id\n",
    "animelists2 = animelists[['username', 'anime_id', 'my_watched_episodes']]"
   ]
  },
  {
   "cell_type": "code",
   "execution_count": 29,
   "metadata": {},
   "outputs": [
    {
     "data": {
      "text/plain": [
       "Text(0, 0.5, 'Puntaje')"
      ]
     },
     "execution_count": 29,
     "metadata": {},
     "output_type": "execute_result"
    },
    {
     "data": {
      "image/png": "[encoded data removed]",
      "text/plain": [
       "<Figure size 640x480 with 1 Axes>"
      ]
     },
     "metadata": {},
     "output_type": "display_data"
    }
   ],
   "source": [
    "\n",
    "import matplotlib.pyplot as plt\n",
    "\n",
    "anime1 = anime[['title','score','scored_by']]\n",
    "anime1 = anime1[anime1['scored_by'] > 24000] \n",
    "anime_top_asc = anime1.sort_values('score', ascending=False)\n",
    "anime_top_asc = anime_top_asc.head(20)\n",
    "\n",
    "#Grafico  \n",
    "anime_top_asc.plot(x='title', y='score', kind='bar')\n",
    "plt.title('Top 20 anime según puntaje y número de votos')\n",
    "plt.xlabel('Anime')\n",
    "plt.ylabel('Puntaje')\n",
    "\n",
    "#Pregunta: \n",
    "\n",
    "#¿Es posible predecir las calificaciones de un anime en función de \n",
    "# características como género, productor y fecha de emisión?\n"
   ]
  },
  {
   "cell_type": "code",
   "execution_count": 31,
   "metadata": {},
   "outputs": [
    {
     "data": {
      "text/plain": [
       "Text(0, 0.5, 'Puntaje')"
      ]
     },
     "execution_count": 31,
     "metadata": {},
     "output_type": "execute_result"
    },
    {
     "data": {
      "image/png": "[encoded data removed]",
      "text/plain": [
       "<Figure size 640x480 with 1 Axes>"
      ]
     },
     "metadata": {},
     "output_type": "display_data"
    }
   ],
   "source": [
    "anime_top_des = anime1.sort_values('score', ascending=True)\n",
    "anime_top_des = anime_top_des.head(20)\n",
    "\n",
    "#Grafico  \n",
    "anime_top_des.plot(x='title', y='score', kind='bar')\n",
    "plt.title('Top 20 anime según puntaje y número de votos')\n",
    "plt.xlabel('Anime')\n",
    "plt.ylabel('Puntaje')\n",
    "\n",
    "#Pregunta: \n",
    "\n",
    "#¿Es posible predecir las calificaciones de un anime en función de \n",
    "# características como género, productor y fecha de emisión?"
   ]
  },
  {
   "cell_type": "markdown",
   "metadata": {},
   "source": [
    "# Aqui seguir con las consultas"
   ]
  },
  {
   "cell_type": "code",
   "execution_count": 97,
   "metadata": {},
   "outputs": [],
   "source": [
    "anime_h = anime[anime['genre'] == 'Hentai']"
   ]
  },
  {
   "cell_type": "code",
   "execution_count": 98,
   "metadata": {},
   "outputs": [],
   "source": [
    "animelists2 = animelists2.merge(anime_h, on='anime_id', how='inner')"
   ]
  },
  {
   "cell_type": "code",
   "execution_count": 99,
   "metadata": {},
   "outputs": [],
   "source": [
    "animelists2 = animelists2.merge(users, on='username', how='inner')"
   ]
  },
  {
   "cell_type": "code",
   "execution_count": 101,
   "metadata": {},
   "outputs": [],
   "source": [
    "# filter animelists2 by my_watched_episodes > 0\n",
    "animelists2 = animelists2[animelists2['my_watched_episodes'] > 0]"
   ]
  },
  {
   "cell_type": "code",
   "execution_count": 105,
   "metadata": {},
   "outputs": [
    {
     "data": {
      "text/plain": [
       "<AxesSubplot:>"
      ]
     },
     "execution_count": 105,
     "metadata": {},
     "output_type": "execute_result"
    },
    {
     "data": {
      "image/png": "[encoded data removed]",
      "text/plain": [
       "<Figure size 1440x720 with 1 Axes>"
      ]
     },
     "metadata": {
      "needs_background": "light"
     },
     "output_type": "display_data"
    }
   ],
   "source": [
    "# graph of users by age\n",
    "animelists2['age'].value_counts().plot(kind='bar', figsize=(20, 10))"
   ]
  }
 ],
 "metadata": {
  "kernelspec": {
   "display_name": "Python 3 (ipykernel)",
   "language": "python",
   "name": "python3"
  },
  "language_info": {
   "codemirror_mode": {
    "name": "ipython",
    "version": 3
   },
   "file_extension": ".py",
   "mimetype": "text/x-python",
   "name": "python",
   "nbconvert_exporter": "python",
   "pygments_lexer": "ipython3",
   "version": "3.10.9"
  }
 },
 "nbformat": 4,
 "nbformat_minor": 2
}
