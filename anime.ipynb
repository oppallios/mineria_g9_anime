{
 "cells": [
  {
   "cell_type": "markdown",
   "metadata": {},
   "source": [
    "# Analisis exploratorio"
   ]
  },
  {
   "cell_type": "markdown",
   "metadata": {},
   "source": [
    "## Estadisticas generales de cada tabla"
   ]
  },
  {
   "cell_type": "markdown",
   "metadata": {},
   "source": [
    "Se realiza un analisis general de cada dataframe. Se calculan sus dimensiones, los tipos de los datos de cada columna y las estadisticas (promedio, moda, mediana, cuartiles) de las columnas de tipo numerico. Además se filtran las columnas que presentan una cantidad considerable de nulos."
   ]
  },
  {
   "cell_type": "code",
   "execution_count": 1,
   "metadata": {},
   "outputs": [],
   "source": [
    "import pandas as pd\n",
    "pd.set_option('display.max_columns', None)"
   ]
  },
  {
   "cell_type": "code",
   "execution_count": 2,
   "metadata": {},
   "outputs": [],
   "source": [
    "anime = pd.read_csv('data/anime_cleaned.csv')\n",
    "users = pd.read_csv('data/users_cleaned.csv')"
   ]
  },
  {
   "cell_type": "markdown",
   "metadata": {},
   "source": [
    "### Data set Animelists"
   ]
  },
  {
   "cell_type": "code",
   "execution_count": 3,
   "metadata": {},
   "outputs": [],
   "source": [
    "animelists = pd.read_csv('data/animelists_cleaned.csv')"
   ]
  },
  {
   "cell_type": "code",
   "execution_count": 4,
   "metadata": {},
   "outputs": [],
   "source": [
    "animelists = animelists.sort_values(by='username')"
   ]
  },
  {
   "cell_type": "code",
   "execution_count": 5,
   "metadata": {},
   "outputs": [],
   "source": [
    "# drop null values in username\n",
    "animelists = animelists.dropna(subset=['username'])"
   ]
  },
  {
   "cell_type": "code",
   "execution_count": 6,
   "metadata": {},
   "outputs": [],
   "source": [
    "# drop columns my_start_date and my_finish_date\n",
    "animelists = animelists.drop(columns=['my_start_date', 'my_finish_date'])"
   ]
  },
  {
   "cell_type": "code",
   "execution_count": 7,
   "metadata": {},
   "outputs": [],
   "source": [
    "# drop my_tags column because it is not needed\n",
    "animelists = animelists.drop(columns=['my_tags'])"
   ]
  },
  {
   "cell_type": "code",
   "execution_count": 8,
   "metadata": {},
   "outputs": [],
   "source": [
    "# drop column my_last_updated because it is not needed\n",
    "animelists = animelists.drop(columns=['my_last_updated'])"
   ]
  },
  {
   "cell_type": "code",
   "execution_count": 9,
   "metadata": {},
   "outputs": [
    {
     "data": {
      "text/html": [
       "<div>\n",
       "<style scoped>\n",
       "    .dataframe tbody tr th:only-of-type {\n",
       "        vertical-align: middle;\n",
       "    }\n",
       "\n",
       "    .dataframe tbody tr th {\n",
       "        vertical-align: top;\n",
       "    }\n",
       "\n",
       "    .dataframe thead th {\n",
       "        text-align: right;\n",
       "    }\n",
       "</style>\n",
       "<table border=\"1\" class=\"dataframe\">\n",
       "  <thead>\n",
       "    <tr style=\"text-align: right;\">\n",
       "      <th></th>\n",
       "      <th>username</th>\n",
       "      <th>anime_id</th>\n",
       "      <th>my_watched_episodes</th>\n",
       "      <th>my_score</th>\n",
       "      <th>my_status</th>\n",
       "      <th>my_rewatching</th>\n",
       "      <th>my_rewatching_ep</th>\n",
       "    </tr>\n",
       "  </thead>\n",
       "  <tbody>\n",
       "    <tr>\n",
       "      <th>6740075</th>\n",
       "      <td>----phoebelyn</td>\n",
       "      <td>949</td>\n",
       "      <td>6</td>\n",
       "      <td>0</td>\n",
       "      <td>2</td>\n",
       "      <td>0.0</td>\n",
       "      <td>0</td>\n",
       "    </tr>\n",
       "    <tr>\n",
       "      <th>6740009</th>\n",
       "      <td>----phoebelyn</td>\n",
       "      <td>57</td>\n",
       "      <td>0</td>\n",
       "      <td>0</td>\n",
       "      <td>3</td>\n",
       "      <td>0.0</td>\n",
       "      <td>0</td>\n",
       "    </tr>\n",
       "    <tr>\n",
       "      <th>6740010</th>\n",
       "      <td>----phoebelyn</td>\n",
       "      <td>93</td>\n",
       "      <td>0</td>\n",
       "      <td>0</td>\n",
       "      <td>3</td>\n",
       "      <td>0.0</td>\n",
       "      <td>0</td>\n",
       "    </tr>\n",
       "    <tr>\n",
       "      <th>6740011</th>\n",
       "      <td>----phoebelyn</td>\n",
       "      <td>121</td>\n",
       "      <td>0</td>\n",
       "      <td>0</td>\n",
       "      <td>3</td>\n",
       "      <td>0.0</td>\n",
       "      <td>0</td>\n",
       "    </tr>\n",
       "    <tr>\n",
       "      <th>6740012</th>\n",
       "      <td>----phoebelyn</td>\n",
       "      <td>135</td>\n",
       "      <td>75</td>\n",
       "      <td>0</td>\n",
       "      <td>2</td>\n",
       "      <td>0.0</td>\n",
       "      <td>0</td>\n",
       "    </tr>\n",
       "    <tr>\n",
       "      <th>...</th>\n",
       "      <td>...</td>\n",
       "      <td>...</td>\n",
       "      <td>...</td>\n",
       "      <td>...</td>\n",
       "      <td>...</td>\n",
       "      <td>...</td>\n",
       "      <td>...</td>\n",
       "    </tr>\n",
       "    <tr>\n",
       "      <th>6085244</th>\n",
       "      <td>zzzzz-chan</td>\n",
       "      <td>644</td>\n",
       "      <td>0</td>\n",
       "      <td>0</td>\n",
       "      <td>6</td>\n",
       "      <td>0.0</td>\n",
       "      <td>0</td>\n",
       "    </tr>\n",
       "    <tr>\n",
       "      <th>6085245</th>\n",
       "      <td>zzzzz-chan</td>\n",
       "      <td>740</td>\n",
       "      <td>43</td>\n",
       "      <td>7</td>\n",
       "      <td>2</td>\n",
       "      <td>0.0</td>\n",
       "      <td>0</td>\n",
       "    </tr>\n",
       "    <tr>\n",
       "      <th>6085246</th>\n",
       "      <td>zzzzz-chan</td>\n",
       "      <td>969</td>\n",
       "      <td>26</td>\n",
       "      <td>7</td>\n",
       "      <td>2</td>\n",
       "      <td>0.0</td>\n",
       "      <td>0</td>\n",
       "    </tr>\n",
       "    <tr>\n",
       "      <th>6085248</th>\n",
       "      <td>zzzzz-chan</td>\n",
       "      <td>1142</td>\n",
       "      <td>12</td>\n",
       "      <td>9</td>\n",
       "      <td>2</td>\n",
       "      <td>NaN</td>\n",
       "      <td>0</td>\n",
       "    </tr>\n",
       "    <tr>\n",
       "      <th>6085121</th>\n",
       "      <td>zzzzz-chan</td>\n",
       "      <td>11703</td>\n",
       "      <td>6</td>\n",
       "      <td>7</td>\n",
       "      <td>4</td>\n",
       "      <td>NaN</td>\n",
       "      <td>0</td>\n",
       "    </tr>\n",
       "  </tbody>\n",
       "</table>\n",
       "<p>31283787 rows × 7 columns</p>\n",
       "</div>"
      ],
      "text/plain": [
       "              username  anime_id  my_watched_episodes  my_score  my_status  \\\n",
       "6740075  ----phoebelyn       949                    6         0          2   \n",
       "6740009  ----phoebelyn        57                    0         0          3   \n",
       "6740010  ----phoebelyn        93                    0         0          3   \n",
       "6740011  ----phoebelyn       121                    0         0          3   \n",
       "6740012  ----phoebelyn       135                   75         0          2   \n",
       "...                ...       ...                  ...       ...        ...   \n",
       "6085244     zzzzz-chan       644                    0         0          6   \n",
       "6085245     zzzzz-chan       740                   43         7          2   \n",
       "6085246     zzzzz-chan       969                   26         7          2   \n",
       "6085248     zzzzz-chan      1142                   12         9          2   \n",
       "6085121     zzzzz-chan     11703                    6         7          4   \n",
       "\n",
       "         my_rewatching  my_rewatching_ep  \n",
       "6740075            0.0                 0  \n",
       "6740009            0.0                 0  \n",
       "6740010            0.0                 0  \n",
       "6740011            0.0                 0  \n",
       "6740012            0.0                 0  \n",
       "...                ...               ...  \n",
       "6085244            0.0                 0  \n",
       "6085245            0.0                 0  \n",
       "6085246            0.0                 0  \n",
       "6085248            NaN                 0  \n",
       "6085121            NaN                 0  \n",
       "\n",
       "[31283787 rows x 7 columns]"
      ]
     },
     "execution_count": 9,
     "metadata": {},
     "output_type": "execute_result"
    }
   ],
   "source": [
    "animelists"
   ]
  },
  {
   "cell_type": "code",
   "execution_count": 10,
   "metadata": {},
   "outputs": [
    {
     "name": "stdout",
     "output_type": "stream",
     "text": [
      "<class 'pandas.core.frame.DataFrame'>\n",
      "Int64Index: 31283787 entries, 6740075 to 6085121\n",
      "Data columns (total 7 columns):\n",
      " #   Column               Dtype  \n",
      "---  ------               -----  \n",
      " 0   username             object \n",
      " 1   anime_id             int64  \n",
      " 2   my_watched_episodes  int64  \n",
      " 3   my_score             int64  \n",
      " 4   my_status            int64  \n",
      " 5   my_rewatching        float64\n",
      " 6   my_rewatching_ep     int64  \n",
      "dtypes: float64(1), int64(5), object(1)\n",
      "memory usage: 1.9+ GB\n"
     ]
    }
   ],
   "source": [
    "animelists.info()"
   ]
  },
  {
   "cell_type": "code",
   "execution_count": 11,
   "metadata": {},
   "outputs": [
    {
     "data": {
      "text/html": [
       "<div>\n",
       "<style scoped>\n",
       "    .dataframe tbody tr th:only-of-type {\n",
       "        vertical-align: middle;\n",
       "    }\n",
       "\n",
       "    .dataframe tbody tr th {\n",
       "        vertical-align: top;\n",
       "    }\n",
       "\n",
       "    .dataframe thead th {\n",
       "        text-align: right;\n",
       "    }\n",
       "</style>\n",
       "<table border=\"1\" class=\"dataframe\">\n",
       "  <thead>\n",
       "    <tr style=\"text-align: right;\">\n",
       "      <th></th>\n",
       "      <th>anime_id</th>\n",
       "      <th>my_watched_episodes</th>\n",
       "      <th>my_score</th>\n",
       "      <th>my_status</th>\n",
       "      <th>my_rewatching</th>\n",
       "      <th>my_rewatching_ep</th>\n",
       "    </tr>\n",
       "  </thead>\n",
       "  <tbody>\n",
       "    <tr>\n",
       "      <th>count</th>\n",
       "      <td>3.128379e+07</td>\n",
       "      <td>3.128379e+07</td>\n",
       "      <td>3.128379e+07</td>\n",
       "      <td>3.128379e+07</td>\n",
       "      <td>2.440557e+07</td>\n",
       "      <td>3.128379e+07</td>\n",
       "    </tr>\n",
       "    <tr>\n",
       "      <th>mean</th>\n",
       "      <td>1.170324e+04</td>\n",
       "      <td>1.289617e+01</td>\n",
       "      <td>4.652314e+00</td>\n",
       "      <td>3.008110e+00</td>\n",
       "      <td>7.903113e-04</td>\n",
       "      <td>1.833008e-01</td>\n",
       "    </tr>\n",
       "    <tr>\n",
       "      <th>std</th>\n",
       "      <td>1.134843e+04</td>\n",
       "      <td>3.733389e+01</td>\n",
       "      <td>3.931616e+00</td>\n",
       "      <td>1.730421e+00</td>\n",
       "      <td>2.810137e-02</td>\n",
       "      <td>1.009176e+03</td>\n",
       "    </tr>\n",
       "    <tr>\n",
       "      <th>min</th>\n",
       "      <td>1.000000e+00</td>\n",
       "      <td>0.000000e+00</td>\n",
       "      <td>0.000000e+00</td>\n",
       "      <td>0.000000e+00</td>\n",
       "      <td>0.000000e+00</td>\n",
       "      <td>0.000000e+00</td>\n",
       "    </tr>\n",
       "    <tr>\n",
       "      <th>25%</th>\n",
       "      <td>1.601000e+03</td>\n",
       "      <td>0.000000e+00</td>\n",
       "      <td>0.000000e+00</td>\n",
       "      <td>2.000000e+00</td>\n",
       "      <td>0.000000e+00</td>\n",
       "      <td>0.000000e+00</td>\n",
       "    </tr>\n",
       "    <tr>\n",
       "      <th>50%</th>\n",
       "      <td>8.086000e+03</td>\n",
       "      <td>4.000000e+00</td>\n",
       "      <td>6.000000e+00</td>\n",
       "      <td>2.000000e+00</td>\n",
       "      <td>0.000000e+00</td>\n",
       "      <td>0.000000e+00</td>\n",
       "    </tr>\n",
       "    <tr>\n",
       "      <th>75%</th>\n",
       "      <td>1.977500e+04</td>\n",
       "      <td>1.300000e+01</td>\n",
       "      <td>8.000000e+00</td>\n",
       "      <td>4.000000e+00</td>\n",
       "      <td>0.000000e+00</td>\n",
       "      <td>0.000000e+00</td>\n",
       "    </tr>\n",
       "    <tr>\n",
       "      <th>max</th>\n",
       "      <td>3.789600e+04</td>\n",
       "      <td>9.999000e+03</td>\n",
       "      <td>1.000000e+01</td>\n",
       "      <td>5.500000e+01</td>\n",
       "      <td>1.000000e+00</td>\n",
       "      <td>5.644513e+06</td>\n",
       "    </tr>\n",
       "  </tbody>\n",
       "</table>\n",
       "</div>"
      ],
      "text/plain": [
       "           anime_id  my_watched_episodes      my_score     my_status  \\\n",
       "count  3.128379e+07         3.128379e+07  3.128379e+07  3.128379e+07   \n",
       "mean   1.170324e+04         1.289617e+01  4.652314e+00  3.008110e+00   \n",
       "std    1.134843e+04         3.733389e+01  3.931616e+00  1.730421e+00   \n",
       "min    1.000000e+00         0.000000e+00  0.000000e+00  0.000000e+00   \n",
       "25%    1.601000e+03         0.000000e+00  0.000000e+00  2.000000e+00   \n",
       "50%    8.086000e+03         4.000000e+00  6.000000e+00  2.000000e+00   \n",
       "75%    1.977500e+04         1.300000e+01  8.000000e+00  4.000000e+00   \n",
       "max    3.789600e+04         9.999000e+03  1.000000e+01  5.500000e+01   \n",
       "\n",
       "       my_rewatching  my_rewatching_ep  \n",
       "count   2.440557e+07      3.128379e+07  \n",
       "mean    7.903113e-04      1.833008e-01  \n",
       "std     2.810137e-02      1.009176e+03  \n",
       "min     0.000000e+00      0.000000e+00  \n",
       "25%     0.000000e+00      0.000000e+00  \n",
       "50%     0.000000e+00      0.000000e+00  \n",
       "75%     0.000000e+00      0.000000e+00  \n",
       "max     1.000000e+00      5.644513e+06  "
      ]
     },
     "execution_count": 11,
     "metadata": {},
     "output_type": "execute_result"
    }
   ],
   "source": [
    "animelists.describe()"
   ]
  },
  {
   "cell_type": "markdown",
   "metadata": {},
   "source": [
    "###  Data set Anime"
   ]
  },
  {
   "cell_type": "code",
   "execution_count": 12,
   "metadata": {},
   "outputs": [],
   "source": [
    "anime = anime.drop(columns=[\n",
    "    'image_url', 'background', 'related', 'premiered', 'broadcast',\n",
    "    'opening_theme', 'ending_theme', 'title_english', 'title_japanese', 'title_synonyms',\n",
    "    'airing', 'aired_string', 'licensor', 'producer'\n",
    "    ])"
   ]
  },
  {
   "cell_type": "code",
   "execution_count": 13,
   "metadata": {},
   "outputs": [
    {
     "name": "stdout",
     "output_type": "stream",
     "text": [
      "<class 'pandas.core.frame.DataFrame'>\n",
      "RangeIndex: 6668 entries, 0 to 6667\n",
      "Data columns (total 19 columns):\n",
      " #   Column           Non-Null Count  Dtype  \n",
      "---  ------           --------------  -----  \n",
      " 0   anime_id         6668 non-null   int64  \n",
      " 1   title            6668 non-null   object \n",
      " 2   type             6668 non-null   object \n",
      " 3   source           6668 non-null   object \n",
      " 4   episodes         6668 non-null   int64  \n",
      " 5   status           6668 non-null   object \n",
      " 6   aired            6668 non-null   object \n",
      " 7   duration         6668 non-null   object \n",
      " 8   rating           6668 non-null   object \n",
      " 9   score            6668 non-null   float64\n",
      " 10  scored_by        6668 non-null   int64  \n",
      " 11  rank             6312 non-null   float64\n",
      " 12  popularity       6668 non-null   int64  \n",
      " 13  members          6668 non-null   int64  \n",
      " 14  favorites        6668 non-null   int64  \n",
      " 15  studio           6668 non-null   object \n",
      " 16  genre            6664 non-null   object \n",
      " 17  duration_min     6668 non-null   float64\n",
      " 18  aired_from_year  6668 non-null   float64\n",
      "dtypes: float64(4), int64(6), object(9)\n",
      "memory usage: 989.9+ KB\n"
     ]
    }
   ],
   "source": [
    "anime.info()"
   ]
  },
  {
   "cell_type": "code",
   "execution_count": 14,
   "metadata": {},
   "outputs": [
    {
     "data": {
      "text/html": [
       "<div>\n",
       "<style scoped>\n",
       "    .dataframe tbody tr th:only-of-type {\n",
       "        vertical-align: middle;\n",
       "    }\n",
       "\n",
       "    .dataframe tbody tr th {\n",
       "        vertical-align: top;\n",
       "    }\n",
       "\n",
       "    .dataframe thead th {\n",
       "        text-align: right;\n",
       "    }\n",
       "</style>\n",
       "<table border=\"1\" class=\"dataframe\">\n",
       "  <thead>\n",
       "    <tr style=\"text-align: right;\">\n",
       "      <th></th>\n",
       "      <th>anime_id</th>\n",
       "      <th>episodes</th>\n",
       "      <th>score</th>\n",
       "      <th>scored_by</th>\n",
       "      <th>rank</th>\n",
       "      <th>popularity</th>\n",
       "      <th>members</th>\n",
       "      <th>favorites</th>\n",
       "      <th>duration_min</th>\n",
       "      <th>aired_from_year</th>\n",
       "    </tr>\n",
       "  </thead>\n",
       "  <tbody>\n",
       "    <tr>\n",
       "      <th>count</th>\n",
       "      <td>6668.000000</td>\n",
       "      <td>6668.000000</td>\n",
       "      <td>6668.000000</td>\n",
       "      <td>6.668000e+03</td>\n",
       "      <td>6312.000000</td>\n",
       "      <td>6668.000000</td>\n",
       "      <td>6.668000e+03</td>\n",
       "      <td>6668.000000</td>\n",
       "      <td>6668.000000</td>\n",
       "      <td>6668.000000</td>\n",
       "    </tr>\n",
       "    <tr>\n",
       "      <th>mean</th>\n",
       "      <td>15064.977804</td>\n",
       "      <td>14.276395</td>\n",
       "      <td>6.848998</td>\n",
       "      <td>2.403501e+04</td>\n",
       "      <td>4327.645120</td>\n",
       "      <td>4479.515897</td>\n",
       "      <td>4.749037e+04</td>\n",
       "      <td>670.365627</td>\n",
       "      <td>28.442167</td>\n",
       "      <td>2006.915267</td>\n",
       "    </tr>\n",
       "    <tr>\n",
       "      <th>std</th>\n",
       "      <td>13161.364001</td>\n",
       "      <td>40.906929</td>\n",
       "      <td>0.927448</td>\n",
       "      <td>6.112103e+04</td>\n",
       "      <td>3170.699074</td>\n",
       "      <td>3453.338080</td>\n",
       "      <td>1.051211e+05</td>\n",
       "      <td>3823.072834</td>\n",
       "      <td>25.365980</td>\n",
       "      <td>10.381425</td>\n",
       "    </tr>\n",
       "    <tr>\n",
       "      <th>min</th>\n",
       "      <td>1.000000</td>\n",
       "      <td>0.000000</td>\n",
       "      <td>0.000000</td>\n",
       "      <td>0.000000e+00</td>\n",
       "      <td>1.000000</td>\n",
       "      <td>1.000000</td>\n",
       "      <td>1.800000e+01</td>\n",
       "      <td>0.000000</td>\n",
       "      <td>0.000000</td>\n",
       "      <td>1942.000000</td>\n",
       "    </tr>\n",
       "    <tr>\n",
       "      <th>25%</th>\n",
       "      <td>2592.000000</td>\n",
       "      <td>1.000000</td>\n",
       "      <td>6.350000</td>\n",
       "      <td>6.812500e+02</td>\n",
       "      <td>1710.750000</td>\n",
       "      <td>1691.750000</td>\n",
       "      <td>2.222750e+03</td>\n",
       "      <td>3.000000</td>\n",
       "      <td>17.000000</td>\n",
       "      <td>2003.000000</td>\n",
       "    </tr>\n",
       "    <tr>\n",
       "      <th>50%</th>\n",
       "      <td>10401.500000</td>\n",
       "      <td>6.000000</td>\n",
       "      <td>6.930000</td>\n",
       "      <td>3.966000e+03</td>\n",
       "      <td>3754.500000</td>\n",
       "      <td>3629.500000</td>\n",
       "      <td>1.033650e+04</td>\n",
       "      <td>21.000000</td>\n",
       "      <td>24.000000</td>\n",
       "      <td>2010.000000</td>\n",
       "    </tr>\n",
       "    <tr>\n",
       "      <th>75%</th>\n",
       "      <td>30301.250000</td>\n",
       "      <td>13.000000</td>\n",
       "      <td>7.460000</td>\n",
       "      <td>1.976075e+04</td>\n",
       "      <td>6338.500000</td>\n",
       "      <td>6630.250000</td>\n",
       "      <td>4.336000e+04</td>\n",
       "      <td>142.000000</td>\n",
       "      <td>27.000000</td>\n",
       "      <td>2015.000000</td>\n",
       "    </tr>\n",
       "    <tr>\n",
       "      <th>max</th>\n",
       "      <td>37896.000000</td>\n",
       "      <td>1818.000000</td>\n",
       "      <td>9.520000</td>\n",
       "      <td>1.009477e+06</td>\n",
       "      <td>12856.000000</td>\n",
       "      <td>14468.000000</td>\n",
       "      <td>1.456378e+06</td>\n",
       "      <td>106895.000000</td>\n",
       "      <td>163.000000</td>\n",
       "      <td>2018.000000</td>\n",
       "    </tr>\n",
       "  </tbody>\n",
       "</table>\n",
       "</div>"
      ],
      "text/plain": [
       "           anime_id     episodes        score     scored_by          rank  \\\n",
       "count   6668.000000  6668.000000  6668.000000  6.668000e+03   6312.000000   \n",
       "mean   15064.977804    14.276395     6.848998  2.403501e+04   4327.645120   \n",
       "std    13161.364001    40.906929     0.927448  6.112103e+04   3170.699074   \n",
       "min        1.000000     0.000000     0.000000  0.000000e+00      1.000000   \n",
       "25%     2592.000000     1.000000     6.350000  6.812500e+02   1710.750000   \n",
       "50%    10401.500000     6.000000     6.930000  3.966000e+03   3754.500000   \n",
       "75%    30301.250000    13.000000     7.460000  1.976075e+04   6338.500000   \n",
       "max    37896.000000  1818.000000     9.520000  1.009477e+06  12856.000000   \n",
       "\n",
       "         popularity       members      favorites  duration_min  \\\n",
       "count   6668.000000  6.668000e+03    6668.000000   6668.000000   \n",
       "mean    4479.515897  4.749037e+04     670.365627     28.442167   \n",
       "std     3453.338080  1.051211e+05    3823.072834     25.365980   \n",
       "min        1.000000  1.800000e+01       0.000000      0.000000   \n",
       "25%     1691.750000  2.222750e+03       3.000000     17.000000   \n",
       "50%     3629.500000  1.033650e+04      21.000000     24.000000   \n",
       "75%     6630.250000  4.336000e+04     142.000000     27.000000   \n",
       "max    14468.000000  1.456378e+06  106895.000000    163.000000   \n",
       "\n",
       "       aired_from_year  \n",
       "count      6668.000000  \n",
       "mean       2006.915267  \n",
       "std          10.381425  \n",
       "min        1942.000000  \n",
       "25%        2003.000000  \n",
       "50%        2010.000000  \n",
       "75%        2015.000000  \n",
       "max        2018.000000  "
      ]
     },
     "execution_count": 14,
     "metadata": {},
     "output_type": "execute_result"
    }
   ],
   "source": [
    "anime.describe()"
   ]
  },
  {
   "cell_type": "markdown",
   "metadata": {},
   "source": [
    "### Data set Users"
   ]
  },
  {
   "cell_type": "code",
   "execution_count": 15,
   "metadata": {},
   "outputs": [],
   "source": [
    "users = users.drop(columns=[\"location\", \"access_rank\"])"
   ]
  },
  {
   "cell_type": "code",
   "execution_count": 16,
   "metadata": {},
   "outputs": [],
   "source": [
    "# generate new column age based on birth_date\n",
    "users['age'] = 2018 - users['birth_date'].str[:4].astype(int)"
   ]
  },
  {
   "cell_type": "code",
   "execution_count": 17,
   "metadata": {},
   "outputs": [
    {
     "name": "stdout",
     "output_type": "stream",
     "text": [
      "<class 'pandas.core.frame.DataFrame'>\n",
      "RangeIndex: 108711 entries, 0 to 108710\n",
      "Data columns (total 16 columns):\n",
      " #   Column                    Non-Null Count   Dtype  \n",
      "---  ------                    --------------   -----  \n",
      " 0   username                  108710 non-null  object \n",
      " 1   user_id                   108711 non-null  int64  \n",
      " 2   user_watching             108711 non-null  int64  \n",
      " 3   user_completed            108711 non-null  int64  \n",
      " 4   user_onhold               108711 non-null  int64  \n",
      " 5   user_dropped              108711 non-null  int64  \n",
      " 6   user_plantowatch          108711 non-null  int64  \n",
      " 7   user_days_spent_watching  108711 non-null  float64\n",
      " 8   gender                    108711 non-null  object \n",
      " 9   birth_date                108711 non-null  object \n",
      " 10  join_date                 108711 non-null  object \n",
      " 11  last_online               108711 non-null  object \n",
      " 12  stats_mean_score          108711 non-null  float64\n",
      " 13  stats_rewatched           108711 non-null  float64\n",
      " 14  stats_episodes            108711 non-null  int64  \n",
      " 15  age                       108711 non-null  int32  \n",
      "dtypes: float64(3), int32(1), int64(7), object(5)\n",
      "memory usage: 12.9+ MB\n"
     ]
    }
   ],
   "source": [
    "users.info()"
   ]
  },
  {
   "cell_type": "code",
   "execution_count": 18,
   "metadata": {},
   "outputs": [
    {
     "data": {
      "text/html": [
       "<div>\n",
       "<style scoped>\n",
       "    .dataframe tbody tr th:only-of-type {\n",
       "        vertical-align: middle;\n",
       "    }\n",
       "\n",
       "    .dataframe tbody tr th {\n",
       "        vertical-align: top;\n",
       "    }\n",
       "\n",
       "    .dataframe thead th {\n",
       "        text-align: right;\n",
       "    }\n",
       "</style>\n",
       "<table border=\"1\" class=\"dataframe\">\n",
       "  <thead>\n",
       "    <tr style=\"text-align: right;\">\n",
       "      <th></th>\n",
       "      <th>user_id</th>\n",
       "      <th>user_watching</th>\n",
       "      <th>user_completed</th>\n",
       "      <th>user_onhold</th>\n",
       "      <th>user_dropped</th>\n",
       "      <th>user_plantowatch</th>\n",
       "      <th>user_days_spent_watching</th>\n",
       "      <th>stats_mean_score</th>\n",
       "      <th>stats_rewatched</th>\n",
       "      <th>stats_episodes</th>\n",
       "      <th>age</th>\n",
       "    </tr>\n",
       "  </thead>\n",
       "  <tbody>\n",
       "    <tr>\n",
       "      <th>count</th>\n",
       "      <td>1.087110e+05</td>\n",
       "      <td>108711.000000</td>\n",
       "      <td>108711.000000</td>\n",
       "      <td>108711.000000</td>\n",
       "      <td>108711.000000</td>\n",
       "      <td>108711.000000</td>\n",
       "      <td>108711.000000</td>\n",
       "      <td>108711.000000</td>\n",
       "      <td>108711.000000</td>\n",
       "      <td>108711.000000</td>\n",
       "      <td>108711.000000</td>\n",
       "    </tr>\n",
       "    <tr>\n",
       "      <th>mean</th>\n",
       "      <td>1.817687e+06</td>\n",
       "      <td>14.767503</td>\n",
       "      <td>196.458178</td>\n",
       "      <td>11.388167</td>\n",
       "      <td>11.733716</td>\n",
       "      <td>75.578589</td>\n",
       "      <td>61.913873</td>\n",
       "      <td>7.747612</td>\n",
       "      <td>14.197993</td>\n",
       "      <td>3779.871255</td>\n",
       "      <td>25.125820</td>\n",
       "    </tr>\n",
       "    <tr>\n",
       "      <th>std</th>\n",
       "      <td>1.998269e+06</td>\n",
       "      <td>32.746591</td>\n",
       "      <td>244.945751</td>\n",
       "      <td>30.830825</td>\n",
       "      <td>30.978991</td>\n",
       "      <td>178.653664</td>\n",
       "      <td>59.211762</td>\n",
       "      <td>1.451368</td>\n",
       "      <td>55.376799</td>\n",
       "      <td>3678.336729</td>\n",
       "      <td>4.632399</td>\n",
       "    </tr>\n",
       "    <tr>\n",
       "      <th>min</th>\n",
       "      <td>1.000000e+00</td>\n",
       "      <td>0.000000</td>\n",
       "      <td>0.000000</td>\n",
       "      <td>0.000000</td>\n",
       "      <td>0.000000</td>\n",
       "      <td>0.000000</td>\n",
       "      <td>0.500694</td>\n",
       "      <td>0.000000</td>\n",
       "      <td>0.000000</td>\n",
       "      <td>7.000000</td>\n",
       "      <td>10.000000</td>\n",
       "    </tr>\n",
       "    <tr>\n",
       "      <th>25%</th>\n",
       "      <td>1.994345e+05</td>\n",
       "      <td>3.000000</td>\n",
       "      <td>50.000000</td>\n",
       "      <td>0.000000</td>\n",
       "      <td>0.000000</td>\n",
       "      <td>6.000000</td>\n",
       "      <td>21.066319</td>\n",
       "      <td>7.330000</td>\n",
       "      <td>0.000000</td>\n",
       "      <td>1269.500000</td>\n",
       "      <td>22.000000</td>\n",
       "    </tr>\n",
       "    <tr>\n",
       "      <th>50%</th>\n",
       "      <td>5.675030e+05</td>\n",
       "      <td>7.000000</td>\n",
       "      <td>123.000000</td>\n",
       "      <td>4.000000</td>\n",
       "      <td>3.000000</td>\n",
       "      <td>27.000000</td>\n",
       "      <td>46.190278</td>\n",
       "      <td>7.890000</td>\n",
       "      <td>1.000000</td>\n",
       "      <td>2797.000000</td>\n",
       "      <td>25.000000</td>\n",
       "    </tr>\n",
       "    <tr>\n",
       "      <th>75%</th>\n",
       "      <td>3.477036e+06</td>\n",
       "      <td>16.000000</td>\n",
       "      <td>254.000000</td>\n",
       "      <td>12.000000</td>\n",
       "      <td>12.000000</td>\n",
       "      <td>81.000000</td>\n",
       "      <td>84.461806</td>\n",
       "      <td>8.460000</td>\n",
       "      <td>10.000000</td>\n",
       "      <td>5135.000000</td>\n",
       "      <td>28.000000</td>\n",
       "    </tr>\n",
       "    <tr>\n",
       "      <th>max</th>\n",
       "      <td>7.251737e+06</td>\n",
       "      <td>2934.000000</td>\n",
       "      <td>5479.000000</td>\n",
       "      <td>2562.000000</td>\n",
       "      <td>2457.000000</td>\n",
       "      <td>12051.000000</td>\n",
       "      <td>952.654595</td>\n",
       "      <td>10.000000</td>\n",
       "      <td>9404.000000</td>\n",
       "      <td>62347.000000</td>\n",
       "      <td>49.000000</td>\n",
       "    </tr>\n",
       "  </tbody>\n",
       "</table>\n",
       "</div>"
      ],
      "text/plain": [
       "            user_id  user_watching  user_completed    user_onhold  \\\n",
       "count  1.087110e+05  108711.000000   108711.000000  108711.000000   \n",
       "mean   1.817687e+06      14.767503      196.458178      11.388167   \n",
       "std    1.998269e+06      32.746591      244.945751      30.830825   \n",
       "min    1.000000e+00       0.000000        0.000000       0.000000   \n",
       "25%    1.994345e+05       3.000000       50.000000       0.000000   \n",
       "50%    5.675030e+05       7.000000      123.000000       4.000000   \n",
       "75%    3.477036e+06      16.000000      254.000000      12.000000   \n",
       "max    7.251737e+06    2934.000000     5479.000000    2562.000000   \n",
       "\n",
       "        user_dropped  user_plantowatch  user_days_spent_watching  \\\n",
       "count  108711.000000     108711.000000             108711.000000   \n",
       "mean       11.733716         75.578589                 61.913873   \n",
       "std        30.978991        178.653664                 59.211762   \n",
       "min         0.000000          0.000000                  0.500694   \n",
       "25%         0.000000          6.000000                 21.066319   \n",
       "50%         3.000000         27.000000                 46.190278   \n",
       "75%        12.000000         81.000000                 84.461806   \n",
       "max      2457.000000      12051.000000                952.654595   \n",
       "\n",
       "       stats_mean_score  stats_rewatched  stats_episodes            age  \n",
       "count     108711.000000    108711.000000   108711.000000  108711.000000  \n",
       "mean           7.747612        14.197993     3779.871255      25.125820  \n",
       "std            1.451368        55.376799     3678.336729       4.632399  \n",
       "min            0.000000         0.000000        7.000000      10.000000  \n",
       "25%            7.330000         0.000000     1269.500000      22.000000  \n",
       "50%            7.890000         1.000000     2797.000000      25.000000  \n",
       "75%            8.460000        10.000000     5135.000000      28.000000  \n",
       "max           10.000000      9404.000000    62347.000000      49.000000  "
      ]
     },
     "execution_count": 18,
     "metadata": {},
     "output_type": "execute_result"
    }
   ],
   "source": [
    "users.describe()"
   ]
  },
  {
   "cell_type": "markdown",
   "metadata": {},
   "source": [
    "# Análisis más profundo"
   ]
  },
  {
   "cell_type": "markdown",
   "metadata": {},
   "source": [
    "Se realizan consultas sobre las tablas de las cuales derivarán las preguntas a realizar en los siguientes hitos. "
   ]
  },
  {
   "cell_type": "markdown",
   "metadata": {},
   "source": [
    "### Consulta 1:  Top 20 animes mejor y peor evaluados"
   ]
  },
  {
   "cell_type": "markdown",
   "metadata": {},
   "source": [
    "Se crean dos grafico que muestran los 20 animes mejor y peor evaluados. Se filtran aquellos animes que han sido evaluados menos de 24000 veces, siendo este ultimo valor una aproximacion del promedio de la cantidad de evaluaciones que reciben los animes en este dataset."
   ]
  },
  {
   "cell_type": "code",
   "execution_count": 45,
   "metadata": {},
   "outputs": [],
   "source": [
    "animelists2 = animelists[['username', 'anime_id', 'my_watched_episodes']]"
   ]
  },
  {
   "cell_type": "code",
   "execution_count": 20,
   "metadata": {},
   "outputs": [
    {
     "data": {
      "text/plain": [
       "Text(0, 0.5, 'Puntaje')"
      ]
     },
     "execution_count": 20,
     "metadata": {},
     "output_type": "execute_result"
    },
    {
     "data": {
      "image/png": "[encoded data removed]",
      "text/plain": [
       "<Figure size 432x288 with 1 Axes>"
      ]
     },
     "metadata": {
      "needs_background": "light"
     },
     "output_type": "display_data"
    }
   ],
   "source": [
    "\n",
    "import matplotlib.pyplot as plt\n",
    "\n",
    "anime1 = anime[['title','score','scored_by']]\n",
    "anime1 = anime1[anime1['scored_by'] > 24000] \n",
    "anime_top_asc = anime1.sort_values('score', ascending=False)\n",
    "anime_top_asc = anime_top_asc.head(20)\n",
    "\n",
    "#Grafico  \n",
    "anime_top_asc.plot(x='title', y='score', kind='bar')\n",
    "plt.title('Top 20 anime según puntaje y número de votos')\n",
    "plt.xlabel('Anime')\n",
    "plt.ylabel('Puntaje')\n",
    "\n",
    "#Pregunta: \n",
    "\n",
    "#¿Es posible predecir las calificaciones de un anime en función de \n",
    "# características como género, productor y fecha de emisión?\n"
   ]
  },
  {
   "cell_type": "code",
   "execution_count": 21,
   "metadata": {},
   "outputs": [
    {
     "data": {
      "text/plain": [
       "Text(0, 0.5, 'Puntaje')"
      ]
     },
     "execution_count": 21,
     "metadata": {},
     "output_type": "execute_result"
    },
    {
     "data": {
      "image/png": "[encoded data removed]",
      "text/plain": [
       "<Figure size 432x288 with 1 Axes>"
      ]
     },
     "metadata": {
      "needs_background": "light"
     },
     "output_type": "display_data"
    }
   ],
   "source": [
    "anime_top_des = anime1.sort_values('score', ascending=True)\n",
    "anime_top_des = anime_top_des.head(20)\n",
    "\n",
    "#Grafico  \n",
    "anime_top_des.plot(x='title', y='score', kind='bar')\n",
    "plt.title('Top 20 anime según puntaje y número de votos')\n",
    "plt.xlabel('Anime')\n",
    "plt.ylabel('Puntaje')\n",
    "\n",
    "#Pregunta: \n",
    "\n",
    "#¿Es posible predecir las calificaciones de un anime en función de \n",
    "# características como género, productor y fecha de emisión?"
   ]
  },
  {
   "attachments": {},
   "cell_type": "markdown",
   "metadata": {},
   "source": [
    "# Consulta 2: Dispersión de las edades de usuarios en un género de anime específico"
   ]
  },
  {
   "attachments": {},
   "cell_type": "markdown",
   "metadata": {},
   "source": [
    "Se filtra la lista de animes primero por el género ```Shounen``` y luego por ```Shoujo```, para ver las características predominantes de los usuarios que consumen estos tipos de anime."
   ]
  },
  {
   "cell_type": "code",
   "execution_count": 65,
   "metadata": {},
   "outputs": [],
   "source": [
    "anime_shounen = anime[anime['genre'] == 'Shounen']"
   ]
  },
  {
   "cell_type": "code",
   "execution_count": 66,
   "metadata": {},
   "outputs": [],
   "source": [
    "animelists2 = animelists[['username', 'anime_id', 'my_watched_episodes']]"
   ]
  },
  {
   "cell_type": "code",
   "execution_count": 67,
   "metadata": {},
   "outputs": [],
   "source": [
    "animelists2 = animelists2.merge(anime_shounen, on='anime_id', how='inner')"
   ]
  },
  {
   "cell_type": "code",
   "execution_count": 68,
   "metadata": {},
   "outputs": [],
   "source": [
    "animelists2 = animelists2.merge(users, on='username', how='inner')"
   ]
  },
  {
   "cell_type": "code",
   "execution_count": 69,
   "metadata": {},
   "outputs": [],
   "source": [
    "animelists2 = animelists2[animelists2['my_watched_episodes'] > 0]"
   ]
  },
  {
   "cell_type": "code",
   "execution_count": 71,
   "metadata": {},
   "outputs": [
    {
     "data": {
      "text/plain": [
       "Text(0, 0.5, 'Cantidad de usuarios')"
      ]
     },
     "execution_count": 71,
     "metadata": {},
     "output_type": "execute_result"
    },
    {
     "data": {
      "image/png": "[encoded data removed]",
      "text/plain": [
       "<Figure size 432x288 with 1 Axes>"
      ]
     },
     "metadata": {
      "needs_background": "light"
     },
     "output_type": "display_data"
    }
   ],
   "source": [
    "# grafico de cantidad de usuarios por edad que ven el genero shounen\n",
    "animelists2['age'].value_counts().plot(kind='bar')\n",
    "\n",
    "plt.title('Cantidad de usuarios por edad que ven el género Shounen')\n",
    "plt.xlabel('Edad')\n",
    "plt.ylabel('Cantidad de usuarios')"
   ]
  },
  {
   "cell_type": "code",
   "execution_count": 72,
   "metadata": {},
   "outputs": [
    {
     "data": {
      "text/plain": [
       "Text(0, 0.5, 'Cantidad de usuarios')"
      ]
     },
     "execution_count": 72,
     "metadata": {},
     "output_type": "execute_result"
    },
    {
     "data": {
      "image/png": "[encoded data removed]",
      "text/plain": [
       "<Figure size 432x288 with 1 Axes>"
      ]
     },
     "metadata": {
      "needs_background": "light"
     },
     "output_type": "display_data"
    }
   ],
   "source": [
    "# grafico de cantidad de usuarios por genero que ven el genero shounen\n",
    "animelists2['gender'].value_counts().plot(kind='bar')\n",
    "\n",
    "plt.title('Cantidad de usuarios por género que ven el género Shounen')\n",
    "plt.xlabel('Género')\n",
    "plt.ylabel('Cantidad de usuarios')"
   ]
  },
  {
   "cell_type": "code",
   "execution_count": 76,
   "metadata": {},
   "outputs": [],
   "source": [
    "anime_shoujo = anime[anime['genre'] == 'Shoujo']"
   ]
  },
  {
   "cell_type": "code",
   "execution_count": 77,
   "metadata": {},
   "outputs": [],
   "source": [
    "animelists2 = animelists[['username', 'anime_id', 'my_watched_episodes']]"
   ]
  },
  {
   "cell_type": "code",
   "execution_count": 78,
   "metadata": {},
   "outputs": [],
   "source": [
    "animelists2 = animelists2.merge(anime_shoujo, on='anime_id', how='inner')"
   ]
  },
  {
   "cell_type": "code",
   "execution_count": 79,
   "metadata": {},
   "outputs": [],
   "source": [
    "animelists2 = animelists2.merge(users, on='username', how='inner')"
   ]
  },
  {
   "cell_type": "code",
   "execution_count": 80,
   "metadata": {},
   "outputs": [],
   "source": [
    "animelists2 = animelists2[animelists2['my_watched_episodes'] > 0]"
   ]
  },
  {
   "cell_type": "code",
   "execution_count": 81,
   "metadata": {},
   "outputs": [
    {
     "data": {
      "text/plain": [
       "Text(0, 0.5, 'Cantidad de usuarios')"
      ]
     },
     "execution_count": 81,
     "metadata": {},
     "output_type": "execute_result"
    },
    {
     "data": {
      "image/png": "[encoded data removed]",
      "text/plain": [
       "<Figure size 432x288 with 1 Axes>"
      ]
     },
     "metadata": {
      "needs_background": "light"
     },
     "output_type": "display_data"
    }
   ],
   "source": [
    "# grafico de cantidad de usuarios por edad que ven el genero Shoujo\n",
    "animelists2['age'].value_counts().plot(kind='bar')\n",
    "\n",
    "plt.title('Cantidad de usuarios por edad que ven el género Shoujo')\n",
    "plt.xlabel('Edad')\n",
    "plt.ylabel('Cantidad de usuarios')"
   ]
  },
  {
   "cell_type": "code",
   "execution_count": 82,
   "metadata": {},
   "outputs": [
    {
     "data": {
      "text/plain": [
       "Text(0, 0.5, 'Cantidad de usuarios')"
      ]
     },
     "execution_count": 82,
     "metadata": {},
     "output_type": "execute_result"
    },
    {
     "data": {
      "image/png": "[encoded data removed]",
      "text/plain": [
       "<Figure size 432x288 with 1 Axes>"
      ]
     },
     "metadata": {
      "needs_background": "light"
     },
     "output_type": "display_data"
    }
   ],
   "source": [
    "# grafico de cantidad de usuarios por genero que ven el genero Shoujo\n",
    "animelists2['gender'].value_counts().plot(kind='bar')\n",
    "\n",
    "plt.title('Cantidad de usuarios por género que ven el género Shoujo')\n",
    "plt.xlabel('Género')\n",
    "plt.ylabel('Cantidad de usuarios')"
   ]
  }
 ],
 "metadata": {
  "kernelspec": {
   "display_name": "Python 3 (ipykernel)",
   "language": "python",
   "name": "python3"
  },
  "language_info": {
   "codemirror_mode": {
    "name": "ipython",
    "version": 3
   },
   "file_extension": ".py",
   "mimetype": "text/x-python",
   "name": "python",
   "nbconvert_exporter": "python",
   "pygments_lexer": "ipython3",
   "version": "3.7.9"
  }
 },
 "nbformat": 4,
 "nbformat_minor": 2
}
