{
 "cells": [
  {
   "attachments": {},
   "cell_type": "markdown",
   "metadata": {},
   "source": [
    "# Hito 1\n",
    "Integrantes: - Matías Torres N.\n",
    "             -Andrea Trigo D.\n",
    "             -Hernán Cisternas G.\n",
    "             -Daniel Sarazua Y.\n",
    "             -Alvaro Garrido B.\n",
    "             "
   ]
  },
  {
   "attachments": {},
   "cell_type": "markdown",
   "metadata": {},
   "source": [
    "## Motivación\n",
    "El mundo del anime es una de las industrias de entretenimiento más grandes en todo el mundo. Su\n",
    "popularidad ha crecido de forma estrepitosa en los últimos años, lo que ha llevado a que cada vez\n",
    "haya más series de anime y usuarios que consumen estos. Además, hay una gran cantidad de datos\n",
    "disponibles sobre los animes, desde información básica como los títulos y las fechas de lanzamiento,\n",
    "hasta otras más específicas como las horas vistas y la información demográfica, entre otros.\n",
    "\n",
    "El contexto general del tema de estudio se centra en el análisis de un conjunto de datos sobre animes\n",
    "y los “otakus” (fanáticos de la cultura japonesa) que visualizan este contenido. Este conjunto de\n",
    "datos es una muestra representativa de la comunidad otaku en Internet, y su objetivo es analizar la\n",
    "demografía y las tendencias dentro de este grupo. Contiene información sobre los usuarios (género,\n",
    "ubicación, fecha de nacimiento, etc.), sobre los animes (fecha de emisión, géneros, productores,\n",
    "etc.) y las listas de animes que los usuarios han creado en MyAnimeList, incluyendo su estado de\n",
    "visualización (plan para ver, completado, viendo, abandonado, etc.) y la puntuación que le han\n",
    "dado en una escala del 1 al 10.\n",
    "\n",
    "Estudiar estos datos es interesante por varias razones. Primeramente, para generar un análisis\n",
    "demográfico y comprender la composición demográfica de la comunidad otaku, como la distribución\n",
    "por género, edad y ubicación geográfica, lo que nos puede proporcionar información valiosa sobre\n",
    "los intereses y preferencias de este grupo según atributos en común. Además, podemos ver las\n",
    "tendencias y patrones de consumo, donde, al analizar las listas de animes y las calificaciones de\n",
    "los usuarios, es posible identificar tendencias y patrones en el consumo de animes. Esto puede\n",
    "ayudar a descubrir qué tipos de animes son más o menos populares, cuáles tienen una mayor tasa\n",
    "de finalización y cuáles son más propensos a ser abandonados, lo que nos permite además, poder\n",
    "investigar cómo influyen las características de un anime (género, productor, fecha de emisión, etc.)\n",
    "en su popularidad y calificación, lo que nos puede proporcionar información útil para los creadores\n",
    "de contenido y los estudios de producción de animes."
   ]
  },
  {
   "attachments": {},
   "cell_type": "markdown",
   "metadata": {},
   "source": [
    "# Analisis exploratorio\n",
    "\n"
   ]
  },
  {
   "cell_type": "markdown",
   "metadata": {},
   "source": [
    "## Estadisticas generales de cada tabla"
   ]
  },
  {
   "cell_type": "markdown",
   "metadata": {},
   "source": [
    "Se realiza un analisis general de cada dataframe. Se calculan sus dimensiones, los tipos de los datos de cada columna y las estadisticas (promedio, moda, mediana, cuartiles) de las columnas de tipo numerico. Además se filtran las columnas que presentan una cantidad considerable de nulos."
   ]
  },
  {
   "cell_type": "code",
   "execution_count": 74,
   "metadata": {},
   "outputs": [],
   "source": [
    "import pandas as pd\n",
    "import seaborn as sns\n",
    "pd.set_option('display.max_columns', None)"
   ]
  },
  {
   "cell_type": "code",
   "execution_count": 2,
   "metadata": {},
   "outputs": [],
   "source": [
    "anime = pd.read_csv('data/anime_cleaned.csv')\n",
    "users = pd.read_csv('data/users_cleaned.csv')"
   ]
  },
  {
   "cell_type": "markdown",
   "metadata": {},
   "source": [
    "### Data set Animelists"
   ]
  },
  {
   "cell_type": "code",
   "execution_count": 3,
   "metadata": {},
   "outputs": [],
   "source": [
    "animelists = pd.read_csv('data/animelists_cleaned.csv')"
   ]
  },
  {
   "cell_type": "code",
   "execution_count": 4,
   "metadata": {},
   "outputs": [],
   "source": [
    "animelists = animelists.sort_values(by='username')"
   ]
  },
  {
   "cell_type": "code",
   "execution_count": 5,
   "metadata": {},
   "outputs": [],
   "source": [
    "# drop null values in username\n",
    "animelists = animelists.dropna(subset=['username'])"
   ]
  },
  {
   "cell_type": "code",
   "execution_count": 6,
   "metadata": {},
   "outputs": [],
   "source": [
    "# drop columns my_start_date and my_finish_date\n",
    "animelists = animelists.drop(columns=['my_start_date', 'my_finish_date'])"
   ]
  },
  {
   "cell_type": "code",
   "execution_count": 7,
   "metadata": {},
   "outputs": [],
   "source": [
    "# drop my_tags column because it is not needed\n",
    "animelists = animelists.drop(columns=['my_tags'])"
   ]
  },
  {
   "cell_type": "code",
   "execution_count": 8,
   "metadata": {},
   "outputs": [],
   "source": [
    "# drop column my_last_updated because it is not needed\n",
    "animelists = animelists.drop(columns=['my_last_updated'])"
   ]
  },
  {
   "cell_type": "code",
   "execution_count": 9,
   "metadata": {},
   "outputs": [
    {
     "data": {
      "text/html": [
       "<div>\n",
       "<style scoped>\n",
       "    .dataframe tbody tr th:only-of-type {\n",
       "        vertical-align: middle;\n",
       "    }\n",
       "\n",
       "    .dataframe tbody tr th {\n",
       "        vertical-align: top;\n",
       "    }\n",
       "\n",
       "    .dataframe thead th {\n",
       "        text-align: right;\n",
       "    }\n",
       "</style>\n",
       "<table border=\"1\" class=\"dataframe\">\n",
       "  <thead>\n",
       "    <tr style=\"text-align: right;\">\n",
       "      <th></th>\n",
       "      <th>username</th>\n",
       "      <th>anime_id</th>\n",
       "      <th>my_watched_episodes</th>\n",
       "      <th>my_score</th>\n",
       "      <th>my_status</th>\n",
       "      <th>my_rewatching</th>\n",
       "      <th>my_rewatching_ep</th>\n",
       "    </tr>\n",
       "  </thead>\n",
       "  <tbody>\n",
       "    <tr>\n",
       "      <th>6740075</th>\n",
       "      <td>----phoebelyn</td>\n",
       "      <td>949</td>\n",
       "      <td>6</td>\n",
       "      <td>0</td>\n",
       "      <td>2</td>\n",
       "      <td>0.0</td>\n",
       "      <td>0</td>\n",
       "    </tr>\n",
       "    <tr>\n",
       "      <th>6740009</th>\n",
       "      <td>----phoebelyn</td>\n",
       "      <td>57</td>\n",
       "      <td>0</td>\n",
       "      <td>0</td>\n",
       "      <td>3</td>\n",
       "      <td>0.0</td>\n",
       "      <td>0</td>\n",
       "    </tr>\n",
       "    <tr>\n",
       "      <th>6740010</th>\n",
       "      <td>----phoebelyn</td>\n",
       "      <td>93</td>\n",
       "      <td>0</td>\n",
       "      <td>0</td>\n",
       "      <td>3</td>\n",
       "      <td>0.0</td>\n",
       "      <td>0</td>\n",
       "    </tr>\n",
       "    <tr>\n",
       "      <th>6740011</th>\n",
       "      <td>----phoebelyn</td>\n",
       "      <td>121</td>\n",
       "      <td>0</td>\n",
       "      <td>0</td>\n",
       "      <td>3</td>\n",
       "      <td>0.0</td>\n",
       "      <td>0</td>\n",
       "    </tr>\n",
       "    <tr>\n",
       "      <th>6740012</th>\n",
       "      <td>----phoebelyn</td>\n",
       "      <td>135</td>\n",
       "      <td>75</td>\n",
       "      <td>0</td>\n",
       "      <td>2</td>\n",
       "      <td>0.0</td>\n",
       "      <td>0</td>\n",
       "    </tr>\n",
       "    <tr>\n",
       "      <th>...</th>\n",
       "      <td>...</td>\n",
       "      <td>...</td>\n",
       "      <td>...</td>\n",
       "      <td>...</td>\n",
       "      <td>...</td>\n",
       "      <td>...</td>\n",
       "      <td>...</td>\n",
       "    </tr>\n",
       "    <tr>\n",
       "      <th>6085244</th>\n",
       "      <td>zzzzz-chan</td>\n",
       "      <td>644</td>\n",
       "      <td>0</td>\n",
       "      <td>0</td>\n",
       "      <td>6</td>\n",
       "      <td>0.0</td>\n",
       "      <td>0</td>\n",
       "    </tr>\n",
       "    <tr>\n",
       "      <th>6085245</th>\n",
       "      <td>zzzzz-chan</td>\n",
       "      <td>740</td>\n",
       "      <td>43</td>\n",
       "      <td>7</td>\n",
       "      <td>2</td>\n",
       "      <td>0.0</td>\n",
       "      <td>0</td>\n",
       "    </tr>\n",
       "    <tr>\n",
       "      <th>6085246</th>\n",
       "      <td>zzzzz-chan</td>\n",
       "      <td>969</td>\n",
       "      <td>26</td>\n",
       "      <td>7</td>\n",
       "      <td>2</td>\n",
       "      <td>0.0</td>\n",
       "      <td>0</td>\n",
       "    </tr>\n",
       "    <tr>\n",
       "      <th>6085248</th>\n",
       "      <td>zzzzz-chan</td>\n",
       "      <td>1142</td>\n",
       "      <td>12</td>\n",
       "      <td>9</td>\n",
       "      <td>2</td>\n",
       "      <td>NaN</td>\n",
       "      <td>0</td>\n",
       "    </tr>\n",
       "    <tr>\n",
       "      <th>6085121</th>\n",
       "      <td>zzzzz-chan</td>\n",
       "      <td>11703</td>\n",
       "      <td>6</td>\n",
       "      <td>7</td>\n",
       "      <td>4</td>\n",
       "      <td>NaN</td>\n",
       "      <td>0</td>\n",
       "    </tr>\n",
       "  </tbody>\n",
       "</table>\n",
       "<p>31283787 rows × 7 columns</p>\n",
       "</div>"
      ],
      "text/plain": [
       "              username  anime_id  my_watched_episodes  my_score  my_status  \\\n",
       "6740075  ----phoebelyn       949                    6         0          2   \n",
       "6740009  ----phoebelyn        57                    0         0          3   \n",
       "6740010  ----phoebelyn        93                    0         0          3   \n",
       "6740011  ----phoebelyn       121                    0         0          3   \n",
       "6740012  ----phoebelyn       135                   75         0          2   \n",
       "...                ...       ...                  ...       ...        ...   \n",
       "6085244     zzzzz-chan       644                    0         0          6   \n",
       "6085245     zzzzz-chan       740                   43         7          2   \n",
       "6085246     zzzzz-chan       969                   26         7          2   \n",
       "6085248     zzzzz-chan      1142                   12         9          2   \n",
       "6085121     zzzzz-chan     11703                    6         7          4   \n",
       "\n",
       "         my_rewatching  my_rewatching_ep  \n",
       "6740075            0.0                 0  \n",
       "6740009            0.0                 0  \n",
       "6740010            0.0                 0  \n",
       "6740011            0.0                 0  \n",
       "6740012            0.0                 0  \n",
       "...                ...               ...  \n",
       "6085244            0.0                 0  \n",
       "6085245            0.0                 0  \n",
       "6085246            0.0                 0  \n",
       "6085248            NaN                 0  \n",
       "6085121            NaN                 0  \n",
       "\n",
       "[31283787 rows x 7 columns]"
      ]
     },
     "execution_count": 9,
     "metadata": {},
     "output_type": "execute_result"
    }
   ],
   "source": [
    "animelists"
   ]
  },
  {
   "cell_type": "code",
   "execution_count": 10,
   "metadata": {},
   "outputs": [
    {
     "name": "stdout",
     "output_type": "stream",
     "text": [
      "<class 'pandas.core.frame.DataFrame'>\n",
      "Int64Index: 31283787 entries, 6740075 to 6085121\n",
      "Data columns (total 7 columns):\n",
      " #   Column               Dtype  \n",
      "---  ------               -----  \n",
      " 0   username             object \n",
      " 1   anime_id             int64  \n",
      " 2   my_watched_episodes  int64  \n",
      " 3   my_score             int64  \n",
      " 4   my_status            int64  \n",
      " 5   my_rewatching        float64\n",
      " 6   my_rewatching_ep     int64  \n",
      "dtypes: float64(1), int64(5), object(1)\n",
      "memory usage: 1.9+ GB\n"
     ]
    }
   ],
   "source": [
    "animelists.info()"
   ]
  },
  {
   "cell_type": "code",
   "execution_count": 11,
   "metadata": {},
   "outputs": [
    {
     "data": {
      "text/html": [
       "<div>\n",
       "<style scoped>\n",
       "    .dataframe tbody tr th:only-of-type {\n",
       "        vertical-align: middle;\n",
       "    }\n",
       "\n",
       "    .dataframe tbody tr th {\n",
       "        vertical-align: top;\n",
       "    }\n",
       "\n",
       "    .dataframe thead th {\n",
       "        text-align: right;\n",
       "    }\n",
       "</style>\n",
       "<table border=\"1\" class=\"dataframe\">\n",
       "  <thead>\n",
       "    <tr style=\"text-align: right;\">\n",
       "      <th></th>\n",
       "      <th>anime_id</th>\n",
       "      <th>my_watched_episodes</th>\n",
       "      <th>my_score</th>\n",
       "      <th>my_status</th>\n",
       "      <th>my_rewatching</th>\n",
       "      <th>my_rewatching_ep</th>\n",
       "    </tr>\n",
       "  </thead>\n",
       "  <tbody>\n",
       "    <tr>\n",
       "      <th>count</th>\n",
       "      <td>3.128379e+07</td>\n",
       "      <td>3.128379e+07</td>\n",
       "      <td>3.128379e+07</td>\n",
       "      <td>3.128379e+07</td>\n",
       "      <td>2.440557e+07</td>\n",
       "      <td>3.128379e+07</td>\n",
       "    </tr>\n",
       "    <tr>\n",
       "      <th>mean</th>\n",
       "      <td>1.170324e+04</td>\n",
       "      <td>1.289617e+01</td>\n",
       "      <td>4.652314e+00</td>\n",
       "      <td>3.008110e+00</td>\n",
       "      <td>7.903113e-04</td>\n",
       "      <td>1.833008e-01</td>\n",
       "    </tr>\n",
       "    <tr>\n",
       "      <th>std</th>\n",
       "      <td>1.134843e+04</td>\n",
       "      <td>3.733389e+01</td>\n",
       "      <td>3.931616e+00</td>\n",
       "      <td>1.730421e+00</td>\n",
       "      <td>2.810137e-02</td>\n",
       "      <td>1.009176e+03</td>\n",
       "    </tr>\n",
       "    <tr>\n",
       "      <th>min</th>\n",
       "      <td>1.000000e+00</td>\n",
       "      <td>0.000000e+00</td>\n",
       "      <td>0.000000e+00</td>\n",
       "      <td>0.000000e+00</td>\n",
       "      <td>0.000000e+00</td>\n",
       "      <td>0.000000e+00</td>\n",
       "    </tr>\n",
       "    <tr>\n",
       "      <th>25%</th>\n",
       "      <td>1.601000e+03</td>\n",
       "      <td>0.000000e+00</td>\n",
       "      <td>0.000000e+00</td>\n",
       "      <td>2.000000e+00</td>\n",
       "      <td>0.000000e+00</td>\n",
       "      <td>0.000000e+00</td>\n",
       "    </tr>\n",
       "    <tr>\n",
       "      <th>50%</th>\n",
       "      <td>8.086000e+03</td>\n",
       "      <td>4.000000e+00</td>\n",
       "      <td>6.000000e+00</td>\n",
       "      <td>2.000000e+00</td>\n",
       "      <td>0.000000e+00</td>\n",
       "      <td>0.000000e+00</td>\n",
       "    </tr>\n",
       "    <tr>\n",
       "      <th>75%</th>\n",
       "      <td>1.977500e+04</td>\n",
       "      <td>1.300000e+01</td>\n",
       "      <td>8.000000e+00</td>\n",
       "      <td>4.000000e+00</td>\n",
       "      <td>0.000000e+00</td>\n",
       "      <td>0.000000e+00</td>\n",
       "    </tr>\n",
       "    <tr>\n",
       "      <th>max</th>\n",
       "      <td>3.789600e+04</td>\n",
       "      <td>9.999000e+03</td>\n",
       "      <td>1.000000e+01</td>\n",
       "      <td>5.500000e+01</td>\n",
       "      <td>1.000000e+00</td>\n",
       "      <td>5.644513e+06</td>\n",
       "    </tr>\n",
       "  </tbody>\n",
       "</table>\n",
       "</div>"
      ],
      "text/plain": [
       "           anime_id  my_watched_episodes      my_score     my_status  \\\n",
       "count  3.128379e+07         3.128379e+07  3.128379e+07  3.128379e+07   \n",
       "mean   1.170324e+04         1.289617e+01  4.652314e+00  3.008110e+00   \n",
       "std    1.134843e+04         3.733389e+01  3.931616e+00  1.730421e+00   \n",
       "min    1.000000e+00         0.000000e+00  0.000000e+00  0.000000e+00   \n",
       "25%    1.601000e+03         0.000000e+00  0.000000e+00  2.000000e+00   \n",
       "50%    8.086000e+03         4.000000e+00  6.000000e+00  2.000000e+00   \n",
       "75%    1.977500e+04         1.300000e+01  8.000000e+00  4.000000e+00   \n",
       "max    3.789600e+04         9.999000e+03  1.000000e+01  5.500000e+01   \n",
       "\n",
       "       my_rewatching  my_rewatching_ep  \n",
       "count   2.440557e+07      3.128379e+07  \n",
       "mean    7.903113e-04      1.833008e-01  \n",
       "std     2.810137e-02      1.009176e+03  \n",
       "min     0.000000e+00      0.000000e+00  \n",
       "25%     0.000000e+00      0.000000e+00  \n",
       "50%     0.000000e+00      0.000000e+00  \n",
       "75%     0.000000e+00      0.000000e+00  \n",
       "max     1.000000e+00      5.644513e+06  "
      ]
     },
     "execution_count": 11,
     "metadata": {},
     "output_type": "execute_result"
    }
   ],
   "source": [
    "animelists.describe()"
   ]
  },
  {
   "cell_type": "markdown",
   "metadata": {},
   "source": [
    "###  Data set Anime"
   ]
  },
  {
   "cell_type": "code",
   "execution_count": 12,
   "metadata": {},
   "outputs": [],
   "source": [
    "anime = anime.drop(columns=[\n",
    "    'image_url', 'background', 'related', 'premiered', 'broadcast',\n",
    "    'opening_theme', 'ending_theme', 'title_english', 'title_japanese', 'title_synonyms',\n",
    "    'airing', 'aired_string', 'licensor', 'producer'\n",
    "    ])"
   ]
  },
  {
   "cell_type": "code",
   "execution_count": 13,
   "metadata": {},
   "outputs": [
    {
     "name": "stdout",
     "output_type": "stream",
     "text": [
      "<class 'pandas.core.frame.DataFrame'>\n",
      "RangeIndex: 6668 entries, 0 to 6667\n",
      "Data columns (total 19 columns):\n",
      " #   Column           Non-Null Count  Dtype  \n",
      "---  ------           --------------  -----  \n",
      " 0   anime_id         6668 non-null   int64  \n",
      " 1   title            6668 non-null   object \n",
      " 2   type             6668 non-null   object \n",
      " 3   source           6668 non-null   object \n",
      " 4   episodes         6668 non-null   int64  \n",
      " 5   status           6668 non-null   object \n",
      " 6   aired            6668 non-null   object \n",
      " 7   duration         6668 non-null   object \n",
      " 8   rating           6668 non-null   object \n",
      " 9   score            6668 non-null   float64\n",
      " 10  scored_by        6668 non-null   int64  \n",
      " 11  rank             6312 non-null   float64\n",
      " 12  popularity       6668 non-null   int64  \n",
      " 13  members          6668 non-null   int64  \n",
      " 14  favorites        6668 non-null   int64  \n",
      " 15  studio           6668 non-null   object \n",
      " 16  genre            6664 non-null   object \n",
      " 17  duration_min     6668 non-null   float64\n",
      " 18  aired_from_year  6668 non-null   float64\n",
      "dtypes: float64(4), int64(6), object(9)\n",
      "memory usage: 989.9+ KB\n"
     ]
    }
   ],
   "source": [
    "anime.info()"
   ]
  },
  {
   "cell_type": "code",
   "execution_count": 14,
   "metadata": {},
   "outputs": [
    {
     "data": {
      "text/html": [
       "<div>\n",
       "<style scoped>\n",
       "    .dataframe tbody tr th:only-of-type {\n",
       "        vertical-align: middle;\n",
       "    }\n",
       "\n",
       "    .dataframe tbody tr th {\n",
       "        vertical-align: top;\n",
       "    }\n",
       "\n",
       "    .dataframe thead th {\n",
       "        text-align: right;\n",
       "    }\n",
       "</style>\n",
       "<table border=\"1\" class=\"dataframe\">\n",
       "  <thead>\n",
       "    <tr style=\"text-align: right;\">\n",
       "      <th></th>\n",
       "      <th>anime_id</th>\n",
       "      <th>episodes</th>\n",
       "      <th>score</th>\n",
       "      <th>scored_by</th>\n",
       "      <th>rank</th>\n",
       "      <th>popularity</th>\n",
       "      <th>members</th>\n",
       "      <th>favorites</th>\n",
       "      <th>duration_min</th>\n",
       "      <th>aired_from_year</th>\n",
       "    </tr>\n",
       "  </thead>\n",
       "  <tbody>\n",
       "    <tr>\n",
       "      <th>count</th>\n",
       "      <td>6668.000000</td>\n",
       "      <td>6668.000000</td>\n",
       "      <td>6668.000000</td>\n",
       "      <td>6.668000e+03</td>\n",
       "      <td>6312.000000</td>\n",
       "      <td>6668.000000</td>\n",
       "      <td>6.668000e+03</td>\n",
       "      <td>6668.000000</td>\n",
       "      <td>6668.000000</td>\n",
       "      <td>6668.000000</td>\n",
       "    </tr>\n",
       "    <tr>\n",
       "      <th>mean</th>\n",
       "      <td>15064.977804</td>\n",
       "      <td>14.276395</td>\n",
       "      <td>6.848998</td>\n",
       "      <td>2.403501e+04</td>\n",
       "      <td>4327.645120</td>\n",
       "      <td>4479.515897</td>\n",
       "      <td>4.749037e+04</td>\n",
       "      <td>670.365627</td>\n",
       "      <td>28.442167</td>\n",
       "      <td>2006.915267</td>\n",
       "    </tr>\n",
       "    <tr>\n",
       "      <th>std</th>\n",
       "      <td>13161.364001</td>\n",
       "      <td>40.906929</td>\n",
       "      <td>0.927448</td>\n",
       "      <td>6.112103e+04</td>\n",
       "      <td>3170.699074</td>\n",
       "      <td>3453.338080</td>\n",
       "      <td>1.051211e+05</td>\n",
       "      <td>3823.072834</td>\n",
       "      <td>25.365980</td>\n",
       "      <td>10.381425</td>\n",
       "    </tr>\n",
       "    <tr>\n",
       "      <th>min</th>\n",
       "      <td>1.000000</td>\n",
       "      <td>0.000000</td>\n",
       "      <td>0.000000</td>\n",
       "      <td>0.000000e+00</td>\n",
       "      <td>1.000000</td>\n",
       "      <td>1.000000</td>\n",
       "      <td>1.800000e+01</td>\n",
       "      <td>0.000000</td>\n",
       "      <td>0.000000</td>\n",
       "      <td>1942.000000</td>\n",
       "    </tr>\n",
       "    <tr>\n",
       "      <th>25%</th>\n",
       "      <td>2592.000000</td>\n",
       "      <td>1.000000</td>\n",
       "      <td>6.350000</td>\n",
       "      <td>6.812500e+02</td>\n",
       "      <td>1710.750000</td>\n",
       "      <td>1691.750000</td>\n",
       "      <td>2.222750e+03</td>\n",
       "      <td>3.000000</td>\n",
       "      <td>17.000000</td>\n",
       "      <td>2003.000000</td>\n",
       "    </tr>\n",
       "    <tr>\n",
       "      <th>50%</th>\n",
       "      <td>10401.500000</td>\n",
       "      <td>6.000000</td>\n",
       "      <td>6.930000</td>\n",
       "      <td>3.966000e+03</td>\n",
       "      <td>3754.500000</td>\n",
       "      <td>3629.500000</td>\n",
       "      <td>1.033650e+04</td>\n",
       "      <td>21.000000</td>\n",
       "      <td>24.000000</td>\n",
       "      <td>2010.000000</td>\n",
       "    </tr>\n",
       "    <tr>\n",
       "      <th>75%</th>\n",
       "      <td>30301.250000</td>\n",
       "      <td>13.000000</td>\n",
       "      <td>7.460000</td>\n",
       "      <td>1.976075e+04</td>\n",
       "      <td>6338.500000</td>\n",
       "      <td>6630.250000</td>\n",
       "      <td>4.336000e+04</td>\n",
       "      <td>142.000000</td>\n",
       "      <td>27.000000</td>\n",
       "      <td>2015.000000</td>\n",
       "    </tr>\n",
       "    <tr>\n",
       "      <th>max</th>\n",
       "      <td>37896.000000</td>\n",
       "      <td>1818.000000</td>\n",
       "      <td>9.520000</td>\n",
       "      <td>1.009477e+06</td>\n",
       "      <td>12856.000000</td>\n",
       "      <td>14468.000000</td>\n",
       "      <td>1.456378e+06</td>\n",
       "      <td>106895.000000</td>\n",
       "      <td>163.000000</td>\n",
       "      <td>2018.000000</td>\n",
       "    </tr>\n",
       "  </tbody>\n",
       "</table>\n",
       "</div>"
      ],
      "text/plain": [
       "           anime_id     episodes        score     scored_by          rank  \\\n",
       "count   6668.000000  6668.000000  6668.000000  6.668000e+03   6312.000000   \n",
       "mean   15064.977804    14.276395     6.848998  2.403501e+04   4327.645120   \n",
       "std    13161.364001    40.906929     0.927448  6.112103e+04   3170.699074   \n",
       "min        1.000000     0.000000     0.000000  0.000000e+00      1.000000   \n",
       "25%     2592.000000     1.000000     6.350000  6.812500e+02   1710.750000   \n",
       "50%    10401.500000     6.000000     6.930000  3.966000e+03   3754.500000   \n",
       "75%    30301.250000    13.000000     7.460000  1.976075e+04   6338.500000   \n",
       "max    37896.000000  1818.000000     9.520000  1.009477e+06  12856.000000   \n",
       "\n",
       "         popularity       members      favorites  duration_min  \\\n",
       "count   6668.000000  6.668000e+03    6668.000000   6668.000000   \n",
       "mean    4479.515897  4.749037e+04     670.365627     28.442167   \n",
       "std     3453.338080  1.051211e+05    3823.072834     25.365980   \n",
       "min        1.000000  1.800000e+01       0.000000      0.000000   \n",
       "25%     1691.750000  2.222750e+03       3.000000     17.000000   \n",
       "50%     3629.500000  1.033650e+04      21.000000     24.000000   \n",
       "75%     6630.250000  4.336000e+04     142.000000     27.000000   \n",
       "max    14468.000000  1.456378e+06  106895.000000    163.000000   \n",
       "\n",
       "       aired_from_year  \n",
       "count      6668.000000  \n",
       "mean       2006.915267  \n",
       "std          10.381425  \n",
       "min        1942.000000  \n",
       "25%        2003.000000  \n",
       "50%        2010.000000  \n",
       "75%        2015.000000  \n",
       "max        2018.000000  "
      ]
     },
     "execution_count": 14,
     "metadata": {},
     "output_type": "execute_result"
    }
   ],
   "source": [
    "anime.describe()"
   ]
  },
  {
   "cell_type": "markdown",
   "metadata": {},
   "source": [
    "### Data set Users"
   ]
  },
  {
   "cell_type": "code",
   "execution_count": 15,
   "metadata": {},
   "outputs": [],
   "source": [
    "users = users.drop(columns=[\"location\", \"access_rank\"])"
   ]
  },
  {
   "cell_type": "code",
   "execution_count": 16,
   "metadata": {},
   "outputs": [],
   "source": [
    "# generate new column age based on birth_date\n",
    "users['age'] = 2018 - users['birth_date'].str[:4].astype(int)"
   ]
  },
  {
   "cell_type": "code",
   "execution_count": 17,
   "metadata": {},
   "outputs": [
    {
     "name": "stdout",
     "output_type": "stream",
     "text": [
      "<class 'pandas.core.frame.DataFrame'>\n",
      "RangeIndex: 108711 entries, 0 to 108710\n",
      "Data columns (total 16 columns):\n",
      " #   Column                    Non-Null Count   Dtype  \n",
      "---  ------                    --------------   -----  \n",
      " 0   username                  108710 non-null  object \n",
      " 1   user_id                   108711 non-null  int64  \n",
      " 2   user_watching             108711 non-null  int64  \n",
      " 3   user_completed            108711 non-null  int64  \n",
      " 4   user_onhold               108711 non-null  int64  \n",
      " 5   user_dropped              108711 non-null  int64  \n",
      " 6   user_plantowatch          108711 non-null  int64  \n",
      " 7   user_days_spent_watching  108711 non-null  float64\n",
      " 8   gender                    108711 non-null  object \n",
      " 9   birth_date                108711 non-null  object \n",
      " 10  join_date                 108711 non-null  object \n",
      " 11  last_online               108711 non-null  object \n",
      " 12  stats_mean_score          108711 non-null  float64\n",
      " 13  stats_rewatched           108711 non-null  float64\n",
      " 14  stats_episodes            108711 non-null  int64  \n",
      " 15  age                       108711 non-null  int32  \n",
      "dtypes: float64(3), int32(1), int64(7), object(5)\n",
      "memory usage: 12.9+ MB\n"
     ]
    }
   ],
   "source": [
    "users.info()"
   ]
  },
  {
   "cell_type": "code",
   "execution_count": 18,
   "metadata": {},
   "outputs": [
    {
     "data": {
      "text/html": [
       "<div>\n",
       "<style scoped>\n",
       "    .dataframe tbody tr th:only-of-type {\n",
       "        vertical-align: middle;\n",
       "    }\n",
       "\n",
       "    .dataframe tbody tr th {\n",
       "        vertical-align: top;\n",
       "    }\n",
       "\n",
       "    .dataframe thead th {\n",
       "        text-align: right;\n",
       "    }\n",
       "</style>\n",
       "<table border=\"1\" class=\"dataframe\">\n",
       "  <thead>\n",
       "    <tr style=\"text-align: right;\">\n",
       "      <th></th>\n",
       "      <th>user_id</th>\n",
       "      <th>user_watching</th>\n",
       "      <th>user_completed</th>\n",
       "      <th>user_onhold</th>\n",
       "      <th>user_dropped</th>\n",
       "      <th>user_plantowatch</th>\n",
       "      <th>user_days_spent_watching</th>\n",
       "      <th>stats_mean_score</th>\n",
       "      <th>stats_rewatched</th>\n",
       "      <th>stats_episodes</th>\n",
       "      <th>age</th>\n",
       "    </tr>\n",
       "  </thead>\n",
       "  <tbody>\n",
       "    <tr>\n",
       "      <th>count</th>\n",
       "      <td>1.087110e+05</td>\n",
       "      <td>108711.000000</td>\n",
       "      <td>108711.000000</td>\n",
       "      <td>108711.000000</td>\n",
       "      <td>108711.000000</td>\n",
       "      <td>108711.000000</td>\n",
       "      <td>108711.000000</td>\n",
       "      <td>108711.000000</td>\n",
       "      <td>108711.000000</td>\n",
       "      <td>108711.000000</td>\n",
       "      <td>108711.000000</td>\n",
       "    </tr>\n",
       "    <tr>\n",
       "      <th>mean</th>\n",
       "      <td>1.817687e+06</td>\n",
       "      <td>14.767503</td>\n",
       "      <td>196.458178</td>\n",
       "      <td>11.388167</td>\n",
       "      <td>11.733716</td>\n",
       "      <td>75.578589</td>\n",
       "      <td>61.913873</td>\n",
       "      <td>7.747612</td>\n",
       "      <td>14.197993</td>\n",
       "      <td>3779.871255</td>\n",
       "      <td>25.125820</td>\n",
       "    </tr>\n",
       "    <tr>\n",
       "      <th>std</th>\n",
       "      <td>1.998269e+06</td>\n",
       "      <td>32.746591</td>\n",
       "      <td>244.945751</td>\n",
       "      <td>30.830825</td>\n",
       "      <td>30.978991</td>\n",
       "      <td>178.653664</td>\n",
       "      <td>59.211762</td>\n",
       "      <td>1.451368</td>\n",
       "      <td>55.376799</td>\n",
       "      <td>3678.336729</td>\n",
       "      <td>4.632399</td>\n",
       "    </tr>\n",
       "    <tr>\n",
       "      <th>min</th>\n",
       "      <td>1.000000e+00</td>\n",
       "      <td>0.000000</td>\n",
       "      <td>0.000000</td>\n",
       "      <td>0.000000</td>\n",
       "      <td>0.000000</td>\n",
       "      <td>0.000000</td>\n",
       "      <td>0.500694</td>\n",
       "      <td>0.000000</td>\n",
       "      <td>0.000000</td>\n",
       "      <td>7.000000</td>\n",
       "      <td>10.000000</td>\n",
       "    </tr>\n",
       "    <tr>\n",
       "      <th>25%</th>\n",
       "      <td>1.994345e+05</td>\n",
       "      <td>3.000000</td>\n",
       "      <td>50.000000</td>\n",
       "      <td>0.000000</td>\n",
       "      <td>0.000000</td>\n",
       "      <td>6.000000</td>\n",
       "      <td>21.066319</td>\n",
       "      <td>7.330000</td>\n",
       "      <td>0.000000</td>\n",
       "      <td>1269.500000</td>\n",
       "      <td>22.000000</td>\n",
       "    </tr>\n",
       "    <tr>\n",
       "      <th>50%</th>\n",
       "      <td>5.675030e+05</td>\n",
       "      <td>7.000000</td>\n",
       "      <td>123.000000</td>\n",
       "      <td>4.000000</td>\n",
       "      <td>3.000000</td>\n",
       "      <td>27.000000</td>\n",
       "      <td>46.190278</td>\n",
       "      <td>7.890000</td>\n",
       "      <td>1.000000</td>\n",
       "      <td>2797.000000</td>\n",
       "      <td>25.000000</td>\n",
       "    </tr>\n",
       "    <tr>\n",
       "      <th>75%</th>\n",
       "      <td>3.477036e+06</td>\n",
       "      <td>16.000000</td>\n",
       "      <td>254.000000</td>\n",
       "      <td>12.000000</td>\n",
       "      <td>12.000000</td>\n",
       "      <td>81.000000</td>\n",
       "      <td>84.461806</td>\n",
       "      <td>8.460000</td>\n",
       "      <td>10.000000</td>\n",
       "      <td>5135.000000</td>\n",
       "      <td>28.000000</td>\n",
       "    </tr>\n",
       "    <tr>\n",
       "      <th>max</th>\n",
       "      <td>7.251737e+06</td>\n",
       "      <td>2934.000000</td>\n",
       "      <td>5479.000000</td>\n",
       "      <td>2562.000000</td>\n",
       "      <td>2457.000000</td>\n",
       "      <td>12051.000000</td>\n",
       "      <td>952.654595</td>\n",
       "      <td>10.000000</td>\n",
       "      <td>9404.000000</td>\n",
       "      <td>62347.000000</td>\n",
       "      <td>49.000000</td>\n",
       "    </tr>\n",
       "  </tbody>\n",
       "</table>\n",
       "</div>"
      ],
      "text/plain": [
       "            user_id  user_watching  user_completed    user_onhold  \\\n",
       "count  1.087110e+05  108711.000000   108711.000000  108711.000000   \n",
       "mean   1.817687e+06      14.767503      196.458178      11.388167   \n",
       "std    1.998269e+06      32.746591      244.945751      30.830825   \n",
       "min    1.000000e+00       0.000000        0.000000       0.000000   \n",
       "25%    1.994345e+05       3.000000       50.000000       0.000000   \n",
       "50%    5.675030e+05       7.000000      123.000000       4.000000   \n",
       "75%    3.477036e+06      16.000000      254.000000      12.000000   \n",
       "max    7.251737e+06    2934.000000     5479.000000    2562.000000   \n",
       "\n",
       "        user_dropped  user_plantowatch  user_days_spent_watching  \\\n",
       "count  108711.000000     108711.000000             108711.000000   \n",
       "mean       11.733716         75.578589                 61.913873   \n",
       "std        30.978991        178.653664                 59.211762   \n",
       "min         0.000000          0.000000                  0.500694   \n",
       "25%         0.000000          6.000000                 21.066319   \n",
       "50%         3.000000         27.000000                 46.190278   \n",
       "75%        12.000000         81.000000                 84.461806   \n",
       "max      2457.000000      12051.000000                952.654595   \n",
       "\n",
       "       stats_mean_score  stats_rewatched  stats_episodes            age  \n",
       "count     108711.000000    108711.000000   108711.000000  108711.000000  \n",
       "mean           7.747612        14.197993     3779.871255      25.125820  \n",
       "std            1.451368        55.376799     3678.336729       4.632399  \n",
       "min            0.000000         0.000000        7.000000      10.000000  \n",
       "25%            7.330000         0.000000     1269.500000      22.000000  \n",
       "50%            7.890000         1.000000     2797.000000      25.000000  \n",
       "75%            8.460000        10.000000     5135.000000      28.000000  \n",
       "max           10.000000      9404.000000    62347.000000      49.000000  "
      ]
     },
     "execution_count": 18,
     "metadata": {},
     "output_type": "execute_result"
    }
   ],
   "source": [
    "users.describe()"
   ]
  },
  {
   "cell_type": "markdown",
   "metadata": {},
   "source": [
    "# Análisis más profundo"
   ]
  },
  {
   "cell_type": "markdown",
   "metadata": {},
   "source": [
    "Se realizan consultas sobre las tablas de las cuales derivarán las preguntas a realizar en los siguientes hitos. "
   ]
  },
  {
   "cell_type": "markdown",
   "metadata": {},
   "source": [
    "### Consulta 1:  Top 20 animes mejor y peor evaluados"
   ]
  },
  {
   "cell_type": "markdown",
   "metadata": {},
   "source": [
    "Se crean dos grafico que muestran los 20 animes mejor y peor evaluados. Se filtran aquellos animes que han sido evaluados menos de 24000 veces, siendo este ultimo valor una aproximacion del promedio de la cantidad de evaluaciones que reciben los animes en este dataset."
   ]
  },
  {
   "cell_type": "code",
   "execution_count": 19,
   "metadata": {},
   "outputs": [],
   "source": [
    "animelists2 = animelists[['username', 'anime_id', 'my_watched_episodes']]"
   ]
  },
  {
   "cell_type": "code",
   "execution_count": 20,
   "metadata": {},
   "outputs": [
    {
     "data": {
      "text/plain": [
       "Text(0, 0.5, 'Puntaje')"
      ]
     },
     "execution_count": 20,
     "metadata": {},
     "output_type": "execute_result"
    },
    {
     "data": {
      "image/png": "[encoded data removed]",
      "text/plain": [
       "<Figure size 432x288 with 1 Axes>"
      ]
     },
     "metadata": {
      "needs_background": "light"
     },
     "output_type": "display_data"
    }
   ],
   "source": [
    "\n",
    "import matplotlib.pyplot as plt\n",
    "\n",
    "anime1 = anime[['title','score','scored_by']]\n",
    "anime1 = anime1[anime1['scored_by'] > 24000] \n",
    "anime_top_asc = anime1.sort_values('score', ascending=False)\n",
    "anime_top_asc = anime_top_asc.head(20)\n",
    "\n",
    "#Grafico  \n",
    "anime_top_asc.plot(x='title', y='score', kind='bar')\n",
    "plt.title('Top 20 anime según puntaje y número de votos')\n",
    "plt.xlabel('Anime')\n",
    "plt.ylabel('Puntaje')\n",
    "\n",
    "#Pregunta: \n",
    "\n",
    "#¿Es posible predecir las calificaciones de un anime en función de \n",
    "# características como género, productor y fecha de emisión?\n"
   ]
  },
  {
   "cell_type": "code",
   "execution_count": 21,
   "metadata": {},
   "outputs": [
    {
     "data": {
      "text/plain": [
       "Text(0, 0.5, 'Puntaje')"
      ]
     },
     "execution_count": 21,
     "metadata": {},
     "output_type": "execute_result"
    },
    {
     "data": {
      "image/png": "[encoded data removed]",
      "text/plain": [
       "<Figure size 432x288 with 1 Axes>"
      ]
     },
     "metadata": {
      "needs_background": "light"
     },
     "output_type": "display_data"
    }
   ],
   "source": [
    "anime_top_des = anime1.sort_values('score', ascending=True)\n",
    "anime_top_des = anime_top_des.head(20)\n",
    "\n",
    "#Grafico  \n",
    "anime_top_des.plot(x='title', y='score', kind='bar')\n",
    "plt.title('Top 20 anime según puntaje y número de votos')\n",
    "plt.xlabel('Anime')\n",
    "plt.ylabel('Puntaje')\n",
    "\n",
    "#Pregunta: \n",
    "\n",
    "#¿Es posible predecir las calificaciones de un anime en función de \n",
    "# características como género, productor y fecha de emisión?\n",
    "ola"
   ]
  },
  {
   "attachments": {},
   "cell_type": "markdown",
   "metadata": {},
   "source": [
    "# Consulta 2: Dispersión de las edades de usuarios en un género de anime específico"
   ]
  },
  {
   "attachments": {},
   "cell_type": "markdown",
   "metadata": {},
   "source": [
    "Se filtra la lista de animes primero por el género ```Shounen``` y luego por ```Shoujo```, para ver las características predominantes de los usuarios que consumen estos tipos de anime."
   ]
  },
  {
   "cell_type": "code",
   "execution_count": 38,
   "metadata": {},
   "outputs": [],
   "source": [
    "anime_shounen = anime.dropna(subset=['genre'])"
   ]
  },
  {
   "cell_type": "code",
   "execution_count": 39,
   "metadata": {},
   "outputs": [],
   "source": [
    "anime_shounen = anime_shounen[anime_shounen['genre'].str.contains('Shounen')]"
   ]
  },
  {
   "cell_type": "code",
   "execution_count": 40,
   "metadata": {},
   "outputs": [],
   "source": [
    "animelists2 = animelists[['username', 'anime_id', 'my_watched_episodes']]"
   ]
  },
  {
   "cell_type": "code",
   "execution_count": 41,
   "metadata": {},
   "outputs": [],
   "source": [
    "animelists2 = animelists2.merge(anime_shounen, on='anime_id', how='inner')"
   ]
  },
  {
   "cell_type": "code",
   "execution_count": 42,
   "metadata": {},
   "outputs": [],
   "source": [
    "animelists2 = animelists2.merge(users, on='username', how='inner')"
   ]
  },
  {
   "cell_type": "code",
   "execution_count": 43,
   "metadata": {},
   "outputs": [],
   "source": [
    "animelists2 = animelists2[animelists2['my_watched_episodes'] > 0]"
   ]
  },
  {
   "cell_type": "code",
   "execution_count": 44,
   "metadata": {},
   "outputs": [
    {
     "data": {
      "text/plain": [
       "Text(0, 0.5, 'Cantidad de usuarios')"
      ]
     },
     "execution_count": 44,
     "metadata": {},
     "output_type": "execute_result"
    },
    {
     "data": {
      "image/png": "[encoded data removed]",
      "text/plain": [
       "<Figure size 432x288 with 1 Axes>"
      ]
     },
     "metadata": {
      "needs_background": "light"
     },
     "output_type": "display_data"
    }
   ],
   "source": [
    "# grafico de cantidad de usuarios por edad que ven el genero shounen\n",
    "animelists2['age'].value_counts().plot(kind='bar')\n",
    "\n",
    "plt.title('Cantidad de usuarios por edad que ven el género Shounen')\n",
    "plt.xlabel('Edad')\n",
    "plt.ylabel('Cantidad de usuarios')"
   ]
  },
  {
   "cell_type": "code",
   "execution_count": 45,
   "metadata": {},
   "outputs": [
    {
     "data": {
      "text/plain": [
       "Text(0, 0.5, 'Cantidad de usuarios')"
      ]
     },
     "execution_count": 45,
     "metadata": {},
     "output_type": "execute_result"
    },
    {
     "data": {
      "image/png": "[encoded data removed]",
      "text/plain": [
       "<Figure size 432x288 with 1 Axes>"
      ]
     },
     "metadata": {
      "needs_background": "light"
     },
     "output_type": "display_data"
    }
   ],
   "source": [
    "# grafico de cantidad de usuarios por genero que ven el genero shounen\n",
    "animelists2['gender'].value_counts().plot(kind='bar')\n",
    "\n",
    "plt.title('Cantidad de usuarios por género que ven el género Shounen')\n",
    "plt.xlabel('Género')\n",
    "plt.ylabel('Cantidad de usuarios')"
   ]
  },
  {
   "cell_type": "code",
   "execution_count": 47,
   "metadata": {},
   "outputs": [],
   "source": [
    "anime_shoujo = anime.dropna(subset=['genre'])"
   ]
  },
  {
   "cell_type": "code",
   "execution_count": 48,
   "metadata": {},
   "outputs": [],
   "source": [
    "anime_shoujo = anime_shoujo[anime_shoujo['genre'].str.contains('Shoujo')]"
   ]
  },
  {
   "cell_type": "code",
   "execution_count": 49,
   "metadata": {},
   "outputs": [],
   "source": [
    "animelists2 = animelists[['username', 'anime_id', 'my_watched_episodes']]"
   ]
  },
  {
   "cell_type": "code",
   "execution_count": 50,
   "metadata": {},
   "outputs": [],
   "source": [
    "animelists2 = animelists2.merge(anime_shoujo, on='anime_id', how='inner')"
   ]
  },
  {
   "cell_type": "code",
   "execution_count": 51,
   "metadata": {},
   "outputs": [],
   "source": [
    "animelists2 = animelists2.merge(users, on='username', how='inner')"
   ]
  },
  {
   "cell_type": "code",
   "execution_count": 52,
   "metadata": {},
   "outputs": [],
   "source": [
    "animelists2 = animelists2[animelists2['my_watched_episodes'] > 0]"
   ]
  },
  {
   "cell_type": "code",
   "execution_count": 53,
   "metadata": {},
   "outputs": [
    {
     "data": {
      "text/plain": [
       "Text(0, 0.5, 'Cantidad de usuarios')"
      ]
     },
     "execution_count": 53,
     "metadata": {},
     "output_type": "execute_result"
    },
    {
     "data": {
      "image/png": "[encoded data removed]",
      "text/plain": [
       "<Figure size 432x288 with 1 Axes>"
      ]
     },
     "metadata": {
      "needs_background": "light"
     },
     "output_type": "display_data"
    }
   ],
   "source": [
    "# grafico de cantidad de usuarios por edad que ven el genero Shoujo\n",
    "animelists2['age'].value_counts().plot(kind='bar')\n",
    "\n",
    "plt.title('Cantidad de usuarios por edad que ven el género Shoujo')\n",
    "plt.xlabel('Edad')\n",
    "plt.ylabel('Cantidad de usuarios')"
   ]
  },
  {
   "cell_type": "code",
   "execution_count": 54,
   "metadata": {},
   "outputs": [
    {
     "data": {
      "text/plain": [
       "Text(0, 0.5, 'Cantidad de usuarios')"
      ]
     },
     "execution_count": 54,
     "metadata": {},
     "output_type": "execute_result"
    },
    {
     "data": {
      "image/png": "[encoded data removed]",
      "text/plain": [
       "<Figure size 432x288 with 1 Axes>"
      ]
     },
     "metadata": {
      "needs_background": "light"
     },
     "output_type": "display_data"
    }
   ],
   "source": [
    "# grafico de cantidad de usuarios por genero que ven el genero Shoujo\n",
    "animelists2['gender'].value_counts().plot(kind='bar')\n",
    "\n",
    "plt.title('Cantidad de usuarios por género que ven el género Shoujo')\n",
    "plt.xlabel('Género')\n",
    "plt.ylabel('Cantidad de usuarios')"
   ]
  },
  {
   "attachments": {},
   "cell_type": "markdown",
   "metadata": {},
   "source": [
    "# Consulta 3: Más droppeados"
   ]
  },
  {
   "cell_type": "code",
   "execution_count": 77,
   "metadata": {},
   "outputs": [
    {
     "data": {
      "text/html": [
       "<div>\n",
       "<style scoped>\n",
       "    .dataframe tbody tr th:only-of-type {\n",
       "        vertical-align: middle;\n",
       "    }\n",
       "\n",
       "    .dataframe tbody tr th {\n",
       "        vertical-align: top;\n",
       "    }\n",
       "\n",
       "    .dataframe thead th {\n",
       "        text-align: right;\n",
       "    }\n",
       "</style>\n",
       "<table border=\"1\" class=\"dataframe\">\n",
       "  <thead>\n",
       "    <tr style=\"text-align: right;\">\n",
       "      <th></th>\n",
       "      <th>anime_id</th>\n",
       "      <th>counts</th>\n",
       "      <th>title</th>\n",
       "      <th>score</th>\n",
       "      <th>genre</th>\n",
       "    </tr>\n",
       "  </thead>\n",
       "  <tbody>\n",
       "    <tr>\n",
       "      <th>0</th>\n",
       "      <td>269</td>\n",
       "      <td>11807</td>\n",
       "      <td>Bleach</td>\n",
       "      <td>7.90</td>\n",
       "      <td>Action, Adventure, Comedy, Super Power, Supern...</td>\n",
       "    </tr>\n",
       "    <tr>\n",
       "      <th>1</th>\n",
       "      <td>1735</td>\n",
       "      <td>9424</td>\n",
       "      <td>Naruto: Shippuuden</td>\n",
       "      <td>8.18</td>\n",
       "      <td>Action, Adventure, Comedy, Super Power, Martia...</td>\n",
       "    </tr>\n",
       "    <tr>\n",
       "      <th>2</th>\n",
       "      <td>20</td>\n",
       "      <td>7247</td>\n",
       "      <td>Naruto</td>\n",
       "      <td>7.88</td>\n",
       "      <td>Action, Adventure, Comedy, Super Power, Martia...</td>\n",
       "    </tr>\n",
       "    <tr>\n",
       "      <th>3</th>\n",
       "      <td>21</td>\n",
       "      <td>6696</td>\n",
       "      <td>One Piece</td>\n",
       "      <td>8.54</td>\n",
       "      <td>Action, Adventure, Comedy, Super Power, Drama,...</td>\n",
       "    </tr>\n",
       "    <tr>\n",
       "      <th>4</th>\n",
       "      <td>6702</td>\n",
       "      <td>6094</td>\n",
       "      <td>Fairy Tail</td>\n",
       "      <td>8.08</td>\n",
       "      <td>Action, Adventure, Comedy, Magic, Fantasy, Sho...</td>\n",
       "    </tr>\n",
       "    <tr>\n",
       "      <th>5</th>\n",
       "      <td>527</td>\n",
       "      <td>4120</td>\n",
       "      <td>Pokemon</td>\n",
       "      <td>7.42</td>\n",
       "      <td>Action, Adventure, Comedy, Kids, Fantasy</td>\n",
       "    </tr>\n",
       "    <tr>\n",
       "      <th>6</th>\n",
       "      <td>249</td>\n",
       "      <td>3748</td>\n",
       "      <td>InuYasha</td>\n",
       "      <td>7.90</td>\n",
       "      <td>Action, Adventure, Comedy, Historical, Demons,...</td>\n",
       "    </tr>\n",
       "    <tr>\n",
       "      <th>7</th>\n",
       "      <td>1887</td>\n",
       "      <td>3371</td>\n",
       "      <td>Lucky☆Star</td>\n",
       "      <td>7.83</td>\n",
       "      <td>Slice of Life, Comedy, Parody, School</td>\n",
       "    </tr>\n",
       "    <tr>\n",
       "      <th>8</th>\n",
       "      <td>1482</td>\n",
       "      <td>3199</td>\n",
       "      <td>D.Gray-man</td>\n",
       "      <td>8.16</td>\n",
       "      <td>Action, Adventure, Comedy, Super Power, Demons...</td>\n",
       "    </tr>\n",
       "    <tr>\n",
       "      <th>9</th>\n",
       "      <td>3588</td>\n",
       "      <td>3127</td>\n",
       "      <td>Soul Eater</td>\n",
       "      <td>8.03</td>\n",
       "      <td>Action, Fantasy, Comedy, Supernatural, Shounen</td>\n",
       "    </tr>\n",
       "    <tr>\n",
       "      <th>10</th>\n",
       "      <td>11757</td>\n",
       "      <td>2869</td>\n",
       "      <td>Sword Art Online</td>\n",
       "      <td>7.64</td>\n",
       "      <td>Action, Adventure, Fantasy, Game, Romance</td>\n",
       "    </tr>\n",
       "    <tr>\n",
       "      <th>11</th>\n",
       "      <td>6500</td>\n",
       "      <td>2853</td>\n",
       "      <td>Seikon no Qwaser</td>\n",
       "      <td>6.71</td>\n",
       "      <td>Action, Super Power, Supernatural, Ecchi, Seinen</td>\n",
       "    </tr>\n",
       "    <tr>\n",
       "      <th>12</th>\n",
       "      <td>1535</td>\n",
       "      <td>2846</td>\n",
       "      <td>Death Note</td>\n",
       "      <td>8.67</td>\n",
       "      <td>Mystery, Police, Psychological, Supernatural, ...</td>\n",
       "    </tr>\n",
       "    <tr>\n",
       "      <th>13</th>\n",
       "      <td>9513</td>\n",
       "      <td>2707</td>\n",
       "      <td>Beelzebub</td>\n",
       "      <td>8.02</td>\n",
       "      <td>Action, Comedy, Demons, Supernatural, School, ...</td>\n",
       "    </tr>\n",
       "    <tr>\n",
       "      <th>14</th>\n",
       "      <td>918</td>\n",
       "      <td>2699</td>\n",
       "      <td>Gintama</td>\n",
       "      <td>9.01</td>\n",
       "      <td>Action, Sci-Fi, Comedy, Historical, Parody, Sa...</td>\n",
       "    </tr>\n",
       "    <tr>\n",
       "      <th>15</th>\n",
       "      <td>1604</td>\n",
       "      <td>2618</td>\n",
       "      <td>Katekyo Hitman Reborn!</td>\n",
       "      <td>8.31</td>\n",
       "      <td>Action, Comedy, Shounen, Super Power</td>\n",
       "    </tr>\n",
       "    <tr>\n",
       "      <th>16</th>\n",
       "      <td>235</td>\n",
       "      <td>2508</td>\n",
       "      <td>Detective Conan</td>\n",
       "      <td>8.25</td>\n",
       "      <td>Adventure, Mystery, Comedy, Police, Shounen</td>\n",
       "    </tr>\n",
       "    <tr>\n",
       "      <th>17</th>\n",
       "      <td>4898</td>\n",
       "      <td>2458</td>\n",
       "      <td>Kuroshitsuji</td>\n",
       "      <td>7.99</td>\n",
       "      <td>Action, Comedy, Demons, Fantasy, Historical, S...</td>\n",
       "    </tr>\n",
       "    <tr>\n",
       "      <th>18</th>\n",
       "      <td>18679</td>\n",
       "      <td>2418</td>\n",
       "      <td>Kill la Kill</td>\n",
       "      <td>8.19</td>\n",
       "      <td>Action, Comedy, Super Power, Ecchi, School</td>\n",
       "    </tr>\n",
       "    <tr>\n",
       "      <th>19</th>\n",
       "      <td>10793</td>\n",
       "      <td>2401</td>\n",
       "      <td>Guilty Crown</td>\n",
       "      <td>7.74</td>\n",
       "      <td>Action, Sci-Fi, Super Power, Drama, Romance</td>\n",
       "    </tr>\n",
       "  </tbody>\n",
       "</table>\n",
       "</div>"
      ],
      "text/plain": [
       "    anime_id  counts                   title  score  \\\n",
       "0        269   11807                  Bleach   7.90   \n",
       "1       1735    9424      Naruto: Shippuuden   8.18   \n",
       "2         20    7247                  Naruto   7.88   \n",
       "3         21    6696               One Piece   8.54   \n",
       "4       6702    6094              Fairy Tail   8.08   \n",
       "5        527    4120                 Pokemon   7.42   \n",
       "6        249    3748                InuYasha   7.90   \n",
       "7       1887    3371              Lucky☆Star   7.83   \n",
       "8       1482    3199              D.Gray-man   8.16   \n",
       "9       3588    3127              Soul Eater   8.03   \n",
       "10     11757    2869        Sword Art Online   7.64   \n",
       "11      6500    2853        Seikon no Qwaser   6.71   \n",
       "12      1535    2846              Death Note   8.67   \n",
       "13      9513    2707               Beelzebub   8.02   \n",
       "14       918    2699                 Gintama   9.01   \n",
       "15      1604    2618  Katekyo Hitman Reborn!   8.31   \n",
       "16       235    2508         Detective Conan   8.25   \n",
       "17      4898    2458            Kuroshitsuji   7.99   \n",
       "18     18679    2418            Kill la Kill   8.19   \n",
       "19     10793    2401            Guilty Crown   7.74   \n",
       "\n",
       "                                                genre  \n",
       "0   Action, Adventure, Comedy, Super Power, Supern...  \n",
       "1   Action, Adventure, Comedy, Super Power, Martia...  \n",
       "2   Action, Adventure, Comedy, Super Power, Martia...  \n",
       "3   Action, Adventure, Comedy, Super Power, Drama,...  \n",
       "4   Action, Adventure, Comedy, Magic, Fantasy, Sho...  \n",
       "5            Action, Adventure, Comedy, Kids, Fantasy  \n",
       "6   Action, Adventure, Comedy, Historical, Demons,...  \n",
       "7               Slice of Life, Comedy, Parody, School  \n",
       "8   Action, Adventure, Comedy, Super Power, Demons...  \n",
       "9      Action, Fantasy, Comedy, Supernatural, Shounen  \n",
       "10          Action, Adventure, Fantasy, Game, Romance  \n",
       "11   Action, Super Power, Supernatural, Ecchi, Seinen  \n",
       "12  Mystery, Police, Psychological, Supernatural, ...  \n",
       "13  Action, Comedy, Demons, Supernatural, School, ...  \n",
       "14  Action, Sci-Fi, Comedy, Historical, Parody, Sa...  \n",
       "15               Action, Comedy, Shounen, Super Power  \n",
       "16        Adventure, Mystery, Comedy, Police, Shounen  \n",
       "17  Action, Comedy, Demons, Fantasy, Historical, S...  \n",
       "18         Action, Comedy, Super Power, Ecchi, School  \n",
       "19        Action, Sci-Fi, Super Power, Drama, Romance  "
      ]
     },
     "execution_count": 77,
     "metadata": {},
     "output_type": "execute_result"
    }
   ],
   "source": [
    "anime_dropped = animelists[['anime_id', 'my_status']] #proyeccion sobre datos significativos\n",
    "\n",
    "anime_dropped = anime_dropped[anime_dropped['my_status'] == 4] #se dejan solo los dropeados\n",
    "\n",
    "count_dropped = anime_dropped['anime_id'].value_counts(dropna=True, sort=True) #se cuentan las repeticiones del id\n",
    "\n",
    "count_dropped = count_dropped.rename_axis('anime_id').to_frame('counts') #se convierte en un dataframe\n",
    "\n",
    "anime_names = anime[['title','anime_id','score','genre']]\n",
    "\n",
    "count_dropped = count_dropped.merge(anime_names, on='anime_id', how='inner') #se obtienen los nombres a partir del id\n",
    "\n",
    "count_dropped.head(20) #primeros 20"
   ]
  },
  {
   "cell_type": "code",
   "execution_count": 78,
   "metadata": {},
   "outputs": [
    {
     "data": {
      "text/plain": [
       "(0.0, 150.0)"
      ]
     },
     "execution_count": 78,
     "metadata": {},
     "output_type": "execute_result"
    },
    {
     "data": {
      "image/png": "[encoded data removed]",
      "text/plain": [
       "<Figure size 432x288 with 1 Axes>"
      ]
     },
     "metadata": {
      "needs_background": "light"
     },
     "output_type": "display_data"
    }
   ],
   "source": [
    "count_dropped = count_dropped.merge(anime, on='anime_id', how='inner')\n",
    "\n",
    "# grafica los 10 animes más dropeados por cantidad de episodios\n",
    "# en un grafico de puntos in range 0-500\n",
    "count_dropped.plot(x='episodes', y='counts', kind='scatter')\n",
    "\n",
    "plt.title('Los 10 animes más dropeados por cantidad de episodios')\n",
    "\n",
    "plt.xlabel('Cantidad de episodios')\n",
    "\n",
    "plt.ylabel('Veces dropeado')\n",
    "\n",
    "plt.xlim(0, 150)"
   ]
  },
  {
   "cell_type": "code",
   "execution_count": 75,
   "metadata": {},
   "outputs": [
    {
     "data": {
      "text/plain": [
       "<AxesSubplot:>"
      ]
     },
     "execution_count": 75,
     "metadata": {},
     "output_type": "execute_result"
    },
    {
     "data": {
      "image/png": "[encoded data removed]",
      "text/plain": [
       "<Figure size 720x576 with 2 Axes>"
      ]
     },
     "metadata": {
      "needs_background": "light"
     },
     "output_type": "display_data"
    }
   ],
   "source": [
    "f, ax = plt.subplots(figsize=(10, 8))\n",
    "corr = count_dropped.corr()\n",
    "sns.heatmap(corr,\n",
    "    cmap=sns.diverging_palette(220, 10, as_cmap=True),\n",
    "    vmin=-1.0, vmax=1.0,\n",
    "    square=True, ax=ax)"
   ]
  },
  {
   "attachments": {},
   "cell_type": "markdown",
   "metadata": {},
   "source": [
    "# Consulta 4: Estudios más populares en el top 100"
   ]
  },
  {
   "cell_type": "code",
   "execution_count": 91,
   "metadata": {},
   "outputs": [
    {
     "data": {
      "text/plain": [
       "Text(0, 0.5, 'Cantidad de animes')"
      ]
     },
     "execution_count": 91,
     "metadata": {},
     "output_type": "execute_result"
    },
    {
     "data": {
      "image/png": "[encoded data removed]",
      "text/plain": [
       "<Figure size 432x288 with 1 Axes>"
      ]
     },
     "metadata": {
      "needs_background": "light"
     },
     "output_type": "display_data"
    }
   ],
   "source": [
    "# grafica los estudios de los 100 animes más populares\n",
    "\n",
    "anime = anime.sort_values('popularity', ascending=False)\n",
    "anime_top100 = anime.head(100)\n",
    "\n",
    "anime_top100 = anime_top100['studio'].value_counts()\n",
    "\n",
    "anime_top100[anime_top100 > 1].plot(kind='bar')\n",
    "\n",
    "plt.title('Estudios con más animes en el top 100 por popularidad')\n",
    "\n",
    "plt.xlabel('Estudio')\n",
    "\n",
    "plt.ylabel('Cantidad de animes')\n"
   ]
  },
  {
   "attachments": {},
   "cell_type": "markdown",
   "metadata": {},
   "source": [
    "# Consulta 5: top animes con más capitulos"
   ]
  },
  {
   "cell_type": "code",
   "execution_count": 92,
   "metadata": {},
   "outputs": [],
   "source": [
    "anime2 = anime[[\"title\", \"episodes\", ]]\n",
    "anime2 = anime2.sort_values('episodes', ascending=False)\n",
    "anime2 = anime2.head(20)"
   ]
  },
  {
   "cell_type": "code",
   "execution_count": 94,
   "metadata": {},
   "outputs": [
    {
     "data": {
      "text/plain": [
       "Text(0, 0.5, 'Num episodios')"
      ]
     },
     "execution_count": 94,
     "metadata": {},
     "output_type": "execute_result"
    },
    {
     "data": {
      "image/png": "[encoded data removed]",
      "text/plain": [
       "<Figure size 432x288 with 1 Axes>"
      ]
     },
     "metadata": {
      "needs_background": "light"
     },
     "output_type": "display_data"
    }
   ],
   "source": [
    "anime2.plot(x='title', y='episodes', kind='bar')\n",
    "plt.title('Top 20 anime con mas episodios')\n",
    "plt.xlabel('Anime')\n",
    "plt.ylabel('Num episodios')"
   ]
  }
 ],
 "metadata": {
  "kernelspec": {
   "display_name": "Python 3 (ipykernel)",
   "language": "python",
   "name": "python3"
  },
  "language_info": {
   "codemirror_mode": {
    "name": "ipython",
    "version": 3
   },
   "file_extension": ".py",
   "mimetype": "text/x-python",
   "name": "python",
   "nbconvert_exporter": "python",
   "pygments_lexer": "ipython3",
   "version": "3.7.9"
  }
 },
 "nbformat": 4,
 "nbformat_minor": 2
}
